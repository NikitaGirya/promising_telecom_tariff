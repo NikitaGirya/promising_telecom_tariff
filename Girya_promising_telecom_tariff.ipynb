{
 "cells": [
  {
   "cell_type": "markdown",
   "id": "2a1064b9",
   "metadata": {},
   "source": [
    "# Определение перспективного тарифа для телеком-компании\n",
    "\n",
    "---\n",
    "\n",
    "<img src=\"https://www.protarif.info/news/thumbnails/b7ffcce08ddd1f9d9c3bf5dff6ccc580.jpeg\" width=600 height=1000 />\n",
    "\n",
    "---\n",
    "Клиентам компании «Мегалайн» предлагают два тарифных плана: ***«Смарт»*** и ***«Ультра»***. Чтобы скорректировать рекламный бюджет, коммерческий департамент хочет понять, какой тариф приносит больше денег.\n",
    "\n",
    "Предстоит сделать предварительный анализ тарифов на небольшой выборке клиентов. В нашем распоряжении данные 500 пользователей «Мегалайна»: кто они, откуда, каким тарифом пользуются, сколько звонков и сообщений каждый отправил за 2018 год. Нужно проанализировать поведение клиентов и сделать вывод — какой тариф лучше.\n",
    "\n",
    "<br/>\n",
    "\n",
    "***Тариф «Смарт»***:\n",
    "1. Ежемесячная плата: 550 рублей\n",
    "2. Включено 500 минут разговора, 50 сообщений и 15 Гб интернет-трафика\n",
    "3. Стоимость услуг сверх тарифного пакета:\n",
    "    * минута разговора: 3 руб.\n",
    "    * сообщение: 3 руб.\n",
    "    * 1 Гб интернет-трафика: 200 руб.\n",
    " \n",
    "<br/>\n",
    "\n",
    "***Тариф «Ультра»***:\n",
    "1. Ежемесячная плата: 1950 рублей\n",
    "2. Включено 3000 минут разговора, 1000 сообщений и 30 Гб интернет-трафика\n",
    "3. Стоимость услуг сверх тарифного пакета:\n",
    "    * минута разговора: 1 руб.\n",
    "    * сообщение: 1 руб.\n",
    "    * 1 Гб интернет-трафика: 150 руб.\n",
    "\n",
    "<br/>\n",
    "\n",
    "*Примечания:* \n",
    "* «Мегалайн» всегда округляет вверх значения минут и мегабайтов. Если пользователь проговорил всего 1 секунду, в тарифе засчитывается целая минута\n",
    "* Для веб-трафика отдельные сессии не считаются. Вместо этого общая сумма за месяц округляется в бо́льшую сторону. Если абонент использует 1025 мегабайт в этом месяце, с него возьмут плату за 2 Гб\n",
    "* Если в тарифе, к примеру, 100 минут разговора в месяц, то со 101 минуты будет взиматься плата\n",
    "\n",
    "---\n",
    "\n",
    "### Задачи исследования:\n",
    "\n",
    "1. Изучение общей информации о предоставленных датасетах\n",
    "2. Предобработка данных - приведение к нужным типам, поиск и исправление имеющихся ошибок \n",
    "3. Расчет и добавление в таблицу:\n",
    "    * количества сделанных звонков и израсходованных минут разговора по месяцам\n",
    "    * количества отправленных сообщений по месяцам\n",
    "    * объема израсходованного интернет-трафика по месяцам\n",
    "    * помесячной выручки с каждого пользователя \n",
    "4. Анализ показателей - описание поведения клиентов оператора, исходя из выборки. Сколько минут разговора, сообщений и какой объём интернет-трафика требуется пользователям каждого тарифа в месяц?:\n",
    "    * подсчет среднего количества, дисперсии и стандартного отклонения\n",
    "    * построение гистограмм\n",
    "    * описание распределений\n",
    "5. Проверка гипотез:\n",
    "    * средняя выручка пользователей тарифов «Ультра» и «Смарт» различаются\n",
    "    * средняя выручка пользователей из Москвы отличается от выручки пользователей из других регионов\n",
    "6. Формирование общего вывода\n",
    "\n",
    "---\n"
   ]
  },
  {
   "cell_type": "markdown",
   "id": "6f2551e6",
   "metadata": {
    "toc": true
   },
   "source": [
    "<h1>Содержание исследования<span class=\"tocSkip\"></span></h1>\n",
    "<div class=\"toc\"><ul class=\"toc-item\"><li><ul class=\"toc-item\"><li><span><a href=\"#Задачи-исследования:\" data-toc-modified-id=\"Задачи-исследования:-0.1\"><span class=\"toc-item-num\">0.1&nbsp;&nbsp;</span>Задачи исследования:</a></span></li></ul></li><li><span><a href=\"#Получение-и-обзор-данных\" data-toc-modified-id=\"Получение-и-обзор-данных-1\"><span class=\"toc-item-num\">1&nbsp;&nbsp;</span>Получение и обзор данных</a></span><ul class=\"toc-item\"><li><span><a href=\"#Вывод\" data-toc-modified-id=\"Вывод-1.1\"><span class=\"toc-item-num\">1.1&nbsp;&nbsp;</span>Вывод</a></span></li></ul></li><li><span><a href=\"#Предобработка-данных\" data-toc-modified-id=\"Предобработка-данных-2\"><span class=\"toc-item-num\">2&nbsp;&nbsp;</span>Предобработка данных</a></span><ul class=\"toc-item\"><li><span><a href=\"#Вывод\" data-toc-modified-id=\"Вывод-2.1\"><span class=\"toc-item-num\">2.1&nbsp;&nbsp;</span>Вывод</a></span></li></ul></li><li><span><a href=\"#Расчет-и-добавление-результатов-в-таблицу\" data-toc-modified-id=\"Расчет-и-добавление-результатов-в-таблицу-3\"><span class=\"toc-item-num\">3&nbsp;&nbsp;</span>Расчет и добавление результатов в таблицу</a></span><ul class=\"toc-item\"><li><span><a href=\"#Количество-сделанных-звонков-и-израсходованных-минут-по-месяцам\" data-toc-modified-id=\"Количество-сделанных-звонков-и-израсходованных-минут-по-месяцам-3.1\"><span class=\"toc-item-num\">3.1&nbsp;&nbsp;</span>Количество сделанных звонков и израсходованных минут по месяцам</a></span></li><li><span><a href=\"#Количество-отправленных-сообщений-по-месяцам\" data-toc-modified-id=\"Количество-отправленных-сообщений-по-месяцам-3.2\"><span class=\"toc-item-num\">3.2&nbsp;&nbsp;</span>Количество отправленных сообщений по месяцам</a></span></li><li><span><a href=\"#Объем-израсходованного-интернет-трафика-по-месяцам\" data-toc-modified-id=\"Объем-израсходованного-интернет-трафика-по-месяцам-3.3\"><span class=\"toc-item-num\">3.3&nbsp;&nbsp;</span>Объем израсходованного интернет-трафика по месяцам</a></span></li><li><span><a href=\"#Помесячная-выручка-с-каждого-пользователя\" data-toc-modified-id=\"Помесячная-выручка-с-каждого-пользователя-3.4\"><span class=\"toc-item-num\">3.4&nbsp;&nbsp;</span>Помесячная выручка с каждого пользователя</a></span></li><li><span><a href=\"#Вывод\" data-toc-modified-id=\"Вывод-3.5\"><span class=\"toc-item-num\">3.5&nbsp;&nbsp;</span>Вывод</a></span></li></ul></li><li><span><a href=\"#Анализ-показателей---описание-поведения-клиентов\" data-toc-modified-id=\"Анализ-показателей---описание-поведения-клиентов-4\"><span class=\"toc-item-num\">4&nbsp;&nbsp;</span>Анализ показателей - описание поведения клиентов</a></span><ul class=\"toc-item\"><li><span><a href=\"#Вывод\" data-toc-modified-id=\"Вывод-4.1\"><span class=\"toc-item-num\">4.1&nbsp;&nbsp;</span>Вывод</a></span></li></ul></li><li><span><a href=\"#Проверка-гипотез-иследования\" data-toc-modified-id=\"Проверка-гипотез-иследования-5\"><span class=\"toc-item-num\">5&nbsp;&nbsp;</span>Проверка гипотез иследования</a></span><ul class=\"toc-item\"><li><span><a href=\"#Средняя-выручка-пользователей-тарифов-«Смарт»-и-«Ультра»-различаются\" data-toc-modified-id=\"Средняя-выручка-пользователей-тарифов-«Смарт»-и-«Ультра»-различаются-5.1\"><span class=\"toc-item-num\">5.1&nbsp;&nbsp;</span>Средняя выручка пользователей тарифов «Смарт» и «Ультра» различаются</a></span></li><li><span><a href=\"#Средняя-выручка-пользователей-из-Москвы-отличается-от-выручки-пользователей-из-других-регионов\" data-toc-modified-id=\"Средняя-выручка-пользователей-из-Москвы-отличается-от-выручки-пользователей-из-других-регионов-5.2\"><span class=\"toc-item-num\">5.2&nbsp;&nbsp;</span>Средняя выручка пользователей из Москвы отличается от выручки пользователей из других регионов</a></span></li><li><span><a href=\"#Вывод\" data-toc-modified-id=\"Вывод-5.3\"><span class=\"toc-item-num\">5.3&nbsp;&nbsp;</span>Вывод</a></span></li></ul></li><li><span><a href=\"#Общий-вывод-иследования\" data-toc-modified-id=\"Общий-вывод-иследования-6\"><span class=\"toc-item-num\">6&nbsp;&nbsp;</span>Общий вывод иследования</a></span></li></ul></div>"
   ]
  },
  {
   "cell_type": "markdown",
   "id": "df4e4a1e",
   "metadata": {},
   "source": [
    "## Получение и обзор данных\n",
    "\n",
    "---"
   ]
  },
  {
   "cell_type": "markdown",
   "id": "2295dcd6",
   "metadata": {},
   "source": [
    "Импортируем необходимые для исследования библиотеки:"
   ]
  },
  {
   "cell_type": "code",
   "execution_count": 1,
   "id": "c365978e",
   "metadata": {},
   "outputs": [],
   "source": [
    "import pandas as pd\n",
    "import numpy as np\n",
    "import matplotlib.pyplot as plt\n",
    "import seaborn as sns\n",
    "from scipy import stats as st\n",
    "from IPython.display import display"
   ]
  },
  {
   "cell_type": "markdown",
   "id": "ae086d52",
   "metadata": {},
   "source": [
    "Прочитаем файлы *calls.csv*, *internet.csv*, *messages.csv*, *tariffs.csv*, *users.csv* и сохраним их в соответствующих переменных:"
   ]
  },
  {
   "cell_type": "code",
   "execution_count": 2,
   "id": "193a3d6b",
   "metadata": {},
   "outputs": [],
   "source": [
    "# чтение файлов с данными методом read_csv() и сохранение\n",
    "# в соответствующих названиям файлов переменных\n",
    "calls = pd.read_csv('calls.csv')\n",
    "internet = pd.read_csv('internet.csv')\n",
    "messages = pd.read_csv('messages.csv')\n",
    "tariffs = pd.read_csv('tariffs.csv')\n",
    "users = pd.read_csv('users.csv')"
   ]
  },
  {
   "cell_type": "markdown",
   "id": "d350a488",
   "metadata": {},
   "source": [
    "Получим первые пять строк, информацию о таблицах и опишем данные в столбцах. \n",
    "\n",
    "Автоматизируем данный процесс с помощью функции `df_info_head`, которая принимает в качестве аргумента датафрейм и возвращает первые пять строк и полную информацию о таблице."
   ]
  },
  {
   "cell_type": "code",
   "execution_count": 3,
   "id": "d74f5ead",
   "metadata": {},
   "outputs": [],
   "source": [
    "# создание функции df_info_head() с аргументом 'df'\n",
    "def df_info_head(df):\n",
    "    '''\n",
    "    Возвращает первые 5 строк и полную \n",
    "    информацию о таблице 'df'\n",
    "    '''\n",
    "    return display(df.head()), df.info()"
   ]
  },
  {
   "cell_type": "markdown",
   "id": "685674b4",
   "metadata": {},
   "source": [
    "**`calls` - информация о звонках**\n",
    "\n",
    "---"
   ]
  },
  {
   "cell_type": "code",
   "execution_count": 4,
   "id": "b4e21b91",
   "metadata": {},
   "outputs": [
    {
     "data": {
      "text/html": [
       "<div>\n",
       "<style scoped>\n",
       "    .dataframe tbody tr th:only-of-type {\n",
       "        vertical-align: middle;\n",
       "    }\n",
       "\n",
       "    .dataframe tbody tr th {\n",
       "        vertical-align: top;\n",
       "    }\n",
       "\n",
       "    .dataframe thead th {\n",
       "        text-align: right;\n",
       "    }\n",
       "</style>\n",
       "<table border=\"1\" class=\"dataframe\">\n",
       "  <thead>\n",
       "    <tr style=\"text-align: right;\">\n",
       "      <th></th>\n",
       "      <th>id</th>\n",
       "      <th>call_date</th>\n",
       "      <th>duration</th>\n",
       "      <th>user_id</th>\n",
       "    </tr>\n",
       "  </thead>\n",
       "  <tbody>\n",
       "    <tr>\n",
       "      <td>0</td>\n",
       "      <td>1000_0</td>\n",
       "      <td>2018-07-25</td>\n",
       "      <td>0.00</td>\n",
       "      <td>1000</td>\n",
       "    </tr>\n",
       "    <tr>\n",
       "      <td>1</td>\n",
       "      <td>1000_1</td>\n",
       "      <td>2018-08-17</td>\n",
       "      <td>0.00</td>\n",
       "      <td>1000</td>\n",
       "    </tr>\n",
       "    <tr>\n",
       "      <td>2</td>\n",
       "      <td>1000_2</td>\n",
       "      <td>2018-06-11</td>\n",
       "      <td>2.85</td>\n",
       "      <td>1000</td>\n",
       "    </tr>\n",
       "    <tr>\n",
       "      <td>3</td>\n",
       "      <td>1000_3</td>\n",
       "      <td>2018-09-21</td>\n",
       "      <td>13.80</td>\n",
       "      <td>1000</td>\n",
       "    </tr>\n",
       "    <tr>\n",
       "      <td>4</td>\n",
       "      <td>1000_4</td>\n",
       "      <td>2018-12-15</td>\n",
       "      <td>5.18</td>\n",
       "      <td>1000</td>\n",
       "    </tr>\n",
       "  </tbody>\n",
       "</table>\n",
       "</div>"
      ],
      "text/plain": [
       "       id   call_date  duration  user_id\n",
       "0  1000_0  2018-07-25      0.00     1000\n",
       "1  1000_1  2018-08-17      0.00     1000\n",
       "2  1000_2  2018-06-11      2.85     1000\n",
       "3  1000_3  2018-09-21     13.80     1000\n",
       "4  1000_4  2018-12-15      5.18     1000"
      ]
     },
     "metadata": {},
     "output_type": "display_data"
    },
    {
     "name": "stdout",
     "output_type": "stream",
     "text": [
      "<class 'pandas.core.frame.DataFrame'>\n",
      "RangeIndex: 202607 entries, 0 to 202606\n",
      "Data columns (total 4 columns):\n",
      "id           202607 non-null object\n",
      "call_date    202607 non-null object\n",
      "duration     202607 non-null float64\n",
      "user_id      202607 non-null int64\n",
      "dtypes: float64(1), int64(1), object(2)\n",
      "memory usage: 6.2+ MB\n"
     ]
    },
    {
     "data": {
      "text/plain": [
       "(None, None)"
      ]
     },
     "execution_count": 4,
     "metadata": {},
     "output_type": "execute_result"
    }
   ],
   "source": [
    "# вызов функции df_info_head()\n",
    "# с аргументом 'calls'\n",
    "df_info_head(calls)"
   ]
  },
  {
   "cell_type": "markdown",
   "id": "11bcf6cf",
   "metadata": {},
   "source": [
    "Всего в таблице 4 столбца с типами данных - целочисленный `int64`, вещественный `float64` и строковый объект `object`:\n",
    "\n",
    "1. `id` — уникальный номер звонка\n",
    "2. `call_date` — дата звонка\n",
    "3. `duration` — длительность звонка в минутах\n",
    "4. `user_id` — идентификатор пользователя, сделавшего звонок"
   ]
  },
  {
   "cell_type": "markdown",
   "id": "f512131c",
   "metadata": {},
   "source": [
    "**`internet` - информация об интернет-сессиях**\n",
    "\n",
    "---"
   ]
  },
  {
   "cell_type": "code",
   "execution_count": 5,
   "id": "9973ea77",
   "metadata": {},
   "outputs": [
    {
     "data": {
      "text/html": [
       "<div>\n",
       "<style scoped>\n",
       "    .dataframe tbody tr th:only-of-type {\n",
       "        vertical-align: middle;\n",
       "    }\n",
       "\n",
       "    .dataframe tbody tr th {\n",
       "        vertical-align: top;\n",
       "    }\n",
       "\n",
       "    .dataframe thead th {\n",
       "        text-align: right;\n",
       "    }\n",
       "</style>\n",
       "<table border=\"1\" class=\"dataframe\">\n",
       "  <thead>\n",
       "    <tr style=\"text-align: right;\">\n",
       "      <th></th>\n",
       "      <th>Unnamed: 0</th>\n",
       "      <th>id</th>\n",
       "      <th>mb_used</th>\n",
       "      <th>session_date</th>\n",
       "      <th>user_id</th>\n",
       "    </tr>\n",
       "  </thead>\n",
       "  <tbody>\n",
       "    <tr>\n",
       "      <td>0</td>\n",
       "      <td>0</td>\n",
       "      <td>1000_0</td>\n",
       "      <td>112.95</td>\n",
       "      <td>2018-11-25</td>\n",
       "      <td>1000</td>\n",
       "    </tr>\n",
       "    <tr>\n",
       "      <td>1</td>\n",
       "      <td>1</td>\n",
       "      <td>1000_1</td>\n",
       "      <td>1052.81</td>\n",
       "      <td>2018-09-07</td>\n",
       "      <td>1000</td>\n",
       "    </tr>\n",
       "    <tr>\n",
       "      <td>2</td>\n",
       "      <td>2</td>\n",
       "      <td>1000_2</td>\n",
       "      <td>1197.26</td>\n",
       "      <td>2018-06-25</td>\n",
       "      <td>1000</td>\n",
       "    </tr>\n",
       "    <tr>\n",
       "      <td>3</td>\n",
       "      <td>3</td>\n",
       "      <td>1000_3</td>\n",
       "      <td>550.27</td>\n",
       "      <td>2018-08-22</td>\n",
       "      <td>1000</td>\n",
       "    </tr>\n",
       "    <tr>\n",
       "      <td>4</td>\n",
       "      <td>4</td>\n",
       "      <td>1000_4</td>\n",
       "      <td>302.56</td>\n",
       "      <td>2018-09-24</td>\n",
       "      <td>1000</td>\n",
       "    </tr>\n",
       "  </tbody>\n",
       "</table>\n",
       "</div>"
      ],
      "text/plain": [
       "   Unnamed: 0      id  mb_used session_date  user_id\n",
       "0           0  1000_0   112.95   2018-11-25     1000\n",
       "1           1  1000_1  1052.81   2018-09-07     1000\n",
       "2           2  1000_2  1197.26   2018-06-25     1000\n",
       "3           3  1000_3   550.27   2018-08-22     1000\n",
       "4           4  1000_4   302.56   2018-09-24     1000"
      ]
     },
     "metadata": {},
     "output_type": "display_data"
    },
    {
     "name": "stdout",
     "output_type": "stream",
     "text": [
      "<class 'pandas.core.frame.DataFrame'>\n",
      "RangeIndex: 149396 entries, 0 to 149395\n",
      "Data columns (total 5 columns):\n",
      "Unnamed: 0      149396 non-null int64\n",
      "id              149396 non-null object\n",
      "mb_used         149396 non-null float64\n",
      "session_date    149396 non-null object\n",
      "user_id         149396 non-null int64\n",
      "dtypes: float64(1), int64(2), object(2)\n",
      "memory usage: 5.7+ MB\n"
     ]
    },
    {
     "data": {
      "text/plain": [
       "(None, None)"
      ]
     },
     "execution_count": 5,
     "metadata": {},
     "output_type": "execute_result"
    }
   ],
   "source": [
    "# вызов функции df_info_head()\n",
    "# с аргументом 'internet'\n",
    "df_info_head(internet)"
   ]
  },
  {
   "cell_type": "markdown",
   "id": "6ceb4ba1",
   "metadata": {},
   "source": [
    "Всего в таблице 4 столбца с типами данных - целочисленный `int64`, вещественный `float64` и строковый объект `object`:\n",
    "\n",
    "1. `id` — уникальный номер сессии\n",
    "2. `mb_used` — объём потраченного за сессию интернет-трафика (в мегабайтах)\n",
    "3. `session_date` — дата интернет-сессии\n",
    "4. `user_id` — идентификатор пользователя"
   ]
  },
  {
   "cell_type": "markdown",
   "id": "6557dbc0",
   "metadata": {},
   "source": [
    "**`messages` - информация о сообщениях**\n",
    "\n",
    "---"
   ]
  },
  {
   "cell_type": "code",
   "execution_count": 6,
   "id": "54bd4e3e",
   "metadata": {},
   "outputs": [
    {
     "data": {
      "text/html": [
       "<div>\n",
       "<style scoped>\n",
       "    .dataframe tbody tr th:only-of-type {\n",
       "        vertical-align: middle;\n",
       "    }\n",
       "\n",
       "    .dataframe tbody tr th {\n",
       "        vertical-align: top;\n",
       "    }\n",
       "\n",
       "    .dataframe thead th {\n",
       "        text-align: right;\n",
       "    }\n",
       "</style>\n",
       "<table border=\"1\" class=\"dataframe\">\n",
       "  <thead>\n",
       "    <tr style=\"text-align: right;\">\n",
       "      <th></th>\n",
       "      <th>id</th>\n",
       "      <th>message_date</th>\n",
       "      <th>user_id</th>\n",
       "    </tr>\n",
       "  </thead>\n",
       "  <tbody>\n",
       "    <tr>\n",
       "      <td>0</td>\n",
       "      <td>1000_0</td>\n",
       "      <td>2018-06-27</td>\n",
       "      <td>1000</td>\n",
       "    </tr>\n",
       "    <tr>\n",
       "      <td>1</td>\n",
       "      <td>1000_1</td>\n",
       "      <td>2018-10-08</td>\n",
       "      <td>1000</td>\n",
       "    </tr>\n",
       "    <tr>\n",
       "      <td>2</td>\n",
       "      <td>1000_2</td>\n",
       "      <td>2018-08-04</td>\n",
       "      <td>1000</td>\n",
       "    </tr>\n",
       "    <tr>\n",
       "      <td>3</td>\n",
       "      <td>1000_3</td>\n",
       "      <td>2018-06-16</td>\n",
       "      <td>1000</td>\n",
       "    </tr>\n",
       "    <tr>\n",
       "      <td>4</td>\n",
       "      <td>1000_4</td>\n",
       "      <td>2018-12-05</td>\n",
       "      <td>1000</td>\n",
       "    </tr>\n",
       "  </tbody>\n",
       "</table>\n",
       "</div>"
      ],
      "text/plain": [
       "       id message_date  user_id\n",
       "0  1000_0   2018-06-27     1000\n",
       "1  1000_1   2018-10-08     1000\n",
       "2  1000_2   2018-08-04     1000\n",
       "3  1000_3   2018-06-16     1000\n",
       "4  1000_4   2018-12-05     1000"
      ]
     },
     "metadata": {},
     "output_type": "display_data"
    },
    {
     "name": "stdout",
     "output_type": "stream",
     "text": [
      "<class 'pandas.core.frame.DataFrame'>\n",
      "RangeIndex: 123036 entries, 0 to 123035\n",
      "Data columns (total 3 columns):\n",
      "id              123036 non-null object\n",
      "message_date    123036 non-null object\n",
      "user_id         123036 non-null int64\n",
      "dtypes: int64(1), object(2)\n",
      "memory usage: 2.8+ MB\n"
     ]
    },
    {
     "data": {
      "text/plain": [
       "(None, None)"
      ]
     },
     "execution_count": 6,
     "metadata": {},
     "output_type": "execute_result"
    }
   ],
   "source": [
    "# вызов функции df_info_head()\n",
    "# с аргументом 'messages'\n",
    "df_info_head(messages)"
   ]
  },
  {
   "cell_type": "markdown",
   "id": "f7d93e5d",
   "metadata": {},
   "source": [
    "Всего в таблице 3 столбца с типами данных - целочисленный `int64` и строковый объект `object`:\n",
    "\n",
    "1. `id` — уникальный номер сообщения\n",
    "2. `message_date` — дата сообщения\n",
    "3. `user_id` — идентификатор пользователя"
   ]
  },
  {
   "cell_type": "markdown",
   "id": "a381e285",
   "metadata": {},
   "source": [
    "**`tariffs` - информация о тарифах**\n",
    "\n",
    "---"
   ]
  },
  {
   "cell_type": "code",
   "execution_count": 7,
   "id": "9db8916b",
   "metadata": {},
   "outputs": [
    {
     "data": {
      "text/html": [
       "<div>\n",
       "<style scoped>\n",
       "    .dataframe tbody tr th:only-of-type {\n",
       "        vertical-align: middle;\n",
       "    }\n",
       "\n",
       "    .dataframe tbody tr th {\n",
       "        vertical-align: top;\n",
       "    }\n",
       "\n",
       "    .dataframe thead th {\n",
       "        text-align: right;\n",
       "    }\n",
       "</style>\n",
       "<table border=\"1\" class=\"dataframe\">\n",
       "  <thead>\n",
       "    <tr style=\"text-align: right;\">\n",
       "      <th></th>\n",
       "      <th>messages_included</th>\n",
       "      <th>mb_per_month_included</th>\n",
       "      <th>minutes_included</th>\n",
       "      <th>rub_monthly_fee</th>\n",
       "      <th>rub_per_gb</th>\n",
       "      <th>rub_per_message</th>\n",
       "      <th>rub_per_minute</th>\n",
       "      <th>tariff_name</th>\n",
       "    </tr>\n",
       "  </thead>\n",
       "  <tbody>\n",
       "    <tr>\n",
       "      <td>0</td>\n",
       "      <td>50</td>\n",
       "      <td>15360</td>\n",
       "      <td>500</td>\n",
       "      <td>550</td>\n",
       "      <td>200</td>\n",
       "      <td>3</td>\n",
       "      <td>3</td>\n",
       "      <td>smart</td>\n",
       "    </tr>\n",
       "    <tr>\n",
       "      <td>1</td>\n",
       "      <td>1000</td>\n",
       "      <td>30720</td>\n",
       "      <td>3000</td>\n",
       "      <td>1950</td>\n",
       "      <td>150</td>\n",
       "      <td>1</td>\n",
       "      <td>1</td>\n",
       "      <td>ultra</td>\n",
       "    </tr>\n",
       "  </tbody>\n",
       "</table>\n",
       "</div>"
      ],
      "text/plain": [
       "   messages_included  mb_per_month_included  minutes_included  \\\n",
       "0                 50                  15360               500   \n",
       "1               1000                  30720              3000   \n",
       "\n",
       "   rub_monthly_fee  rub_per_gb  rub_per_message  rub_per_minute tariff_name  \n",
       "0              550         200                3               3       smart  \n",
       "1             1950         150                1               1       ultra  "
      ]
     },
     "metadata": {},
     "output_type": "display_data"
    },
    {
     "name": "stdout",
     "output_type": "stream",
     "text": [
      "<class 'pandas.core.frame.DataFrame'>\n",
      "RangeIndex: 2 entries, 0 to 1\n",
      "Data columns (total 8 columns):\n",
      "messages_included        2 non-null int64\n",
      "mb_per_month_included    2 non-null int64\n",
      "minutes_included         2 non-null int64\n",
      "rub_monthly_fee          2 non-null int64\n",
      "rub_per_gb               2 non-null int64\n",
      "rub_per_message          2 non-null int64\n",
      "rub_per_minute           2 non-null int64\n",
      "tariff_name              2 non-null object\n",
      "dtypes: int64(7), object(1)\n",
      "memory usage: 256.0+ bytes\n"
     ]
    },
    {
     "data": {
      "text/plain": [
       "(None, None)"
      ]
     },
     "execution_count": 7,
     "metadata": {},
     "output_type": "execute_result"
    }
   ],
   "source": [
    "# вызов функции df_info_head()\n",
    "# с аргументом 'tariffs'\n",
    "df_info_head(tariffs)"
   ]
  },
  {
   "cell_type": "markdown",
   "id": "d390ba0d",
   "metadata": {},
   "source": [
    "Всего в таблице 8 столбцов с типами данных - целочисленный `int64` и строковый объект `object`:\n",
    "\n",
    "1. `messages_included` — количество сообщений в месяц, включённых в абонентскую плату\n",
    "2. `mb_per_month_included` — объём интернет-трафика, включённого в абонентскую плату (в мегабайтах)\n",
    "3. `minutes_included` — количество минут разговора в месяц, включённых в абонентскую плату\n",
    "4. `rub_monthly_fee` — ежемесячная абонентская плата в рублях\n",
    "5.\t`rub_per_gb` — стоимость дополнительного гигабайта интернет-трафика сверх тарифного пакета\n",
    "6.\t`rub_per_message` — стоимость отправки сообщения сверх тарифного пакета\n",
    "7.\t`rub_per_minute` — стоимость минуты разговора сверх тарифного пакета\n",
    "8. `tariff_name` — название тарифа"
   ]
  },
  {
   "cell_type": "markdown",
   "id": "4dc90279",
   "metadata": {},
   "source": [
    "**`users` - информация о пользователях**\n",
    "\n",
    "---"
   ]
  },
  {
   "cell_type": "code",
   "execution_count": 8,
   "id": "aa0942cb",
   "metadata": {},
   "outputs": [
    {
     "data": {
      "text/html": [
       "<div>\n",
       "<style scoped>\n",
       "    .dataframe tbody tr th:only-of-type {\n",
       "        vertical-align: middle;\n",
       "    }\n",
       "\n",
       "    .dataframe tbody tr th {\n",
       "        vertical-align: top;\n",
       "    }\n",
       "\n",
       "    .dataframe thead th {\n",
       "        text-align: right;\n",
       "    }\n",
       "</style>\n",
       "<table border=\"1\" class=\"dataframe\">\n",
       "  <thead>\n",
       "    <tr style=\"text-align: right;\">\n",
       "      <th></th>\n",
       "      <th>user_id</th>\n",
       "      <th>age</th>\n",
       "      <th>churn_date</th>\n",
       "      <th>city</th>\n",
       "      <th>first_name</th>\n",
       "      <th>last_name</th>\n",
       "      <th>reg_date</th>\n",
       "      <th>tariff</th>\n",
       "    </tr>\n",
       "  </thead>\n",
       "  <tbody>\n",
       "    <tr>\n",
       "      <td>0</td>\n",
       "      <td>1000</td>\n",
       "      <td>52</td>\n",
       "      <td>NaN</td>\n",
       "      <td>Краснодар</td>\n",
       "      <td>Рафаил</td>\n",
       "      <td>Верещагин</td>\n",
       "      <td>2018-05-25</td>\n",
       "      <td>ultra</td>\n",
       "    </tr>\n",
       "    <tr>\n",
       "      <td>1</td>\n",
       "      <td>1001</td>\n",
       "      <td>41</td>\n",
       "      <td>NaN</td>\n",
       "      <td>Москва</td>\n",
       "      <td>Иван</td>\n",
       "      <td>Ежов</td>\n",
       "      <td>2018-11-01</td>\n",
       "      <td>smart</td>\n",
       "    </tr>\n",
       "    <tr>\n",
       "      <td>2</td>\n",
       "      <td>1002</td>\n",
       "      <td>59</td>\n",
       "      <td>NaN</td>\n",
       "      <td>Стерлитамак</td>\n",
       "      <td>Евгений</td>\n",
       "      <td>Абрамович</td>\n",
       "      <td>2018-06-17</td>\n",
       "      <td>smart</td>\n",
       "    </tr>\n",
       "    <tr>\n",
       "      <td>3</td>\n",
       "      <td>1003</td>\n",
       "      <td>23</td>\n",
       "      <td>NaN</td>\n",
       "      <td>Москва</td>\n",
       "      <td>Белла</td>\n",
       "      <td>Белякова</td>\n",
       "      <td>2018-08-17</td>\n",
       "      <td>ultra</td>\n",
       "    </tr>\n",
       "    <tr>\n",
       "      <td>4</td>\n",
       "      <td>1004</td>\n",
       "      <td>68</td>\n",
       "      <td>NaN</td>\n",
       "      <td>Новокузнецк</td>\n",
       "      <td>Татьяна</td>\n",
       "      <td>Авдеенко</td>\n",
       "      <td>2018-05-14</td>\n",
       "      <td>ultra</td>\n",
       "    </tr>\n",
       "  </tbody>\n",
       "</table>\n",
       "</div>"
      ],
      "text/plain": [
       "   user_id  age churn_date         city first_name  last_name    reg_date  \\\n",
       "0     1000   52        NaN    Краснодар     Рафаил  Верещагин  2018-05-25   \n",
       "1     1001   41        NaN       Москва       Иван       Ежов  2018-11-01   \n",
       "2     1002   59        NaN  Стерлитамак    Евгений  Абрамович  2018-06-17   \n",
       "3     1003   23        NaN       Москва      Белла   Белякова  2018-08-17   \n",
       "4     1004   68        NaN  Новокузнецк    Татьяна   Авдеенко  2018-05-14   \n",
       "\n",
       "  tariff  \n",
       "0  ultra  \n",
       "1  smart  \n",
       "2  smart  \n",
       "3  ultra  \n",
       "4  ultra  "
      ]
     },
     "metadata": {},
     "output_type": "display_data"
    },
    {
     "name": "stdout",
     "output_type": "stream",
     "text": [
      "<class 'pandas.core.frame.DataFrame'>\n",
      "RangeIndex: 500 entries, 0 to 499\n",
      "Data columns (total 8 columns):\n",
      "user_id       500 non-null int64\n",
      "age           500 non-null int64\n",
      "churn_date    38 non-null object\n",
      "city          500 non-null object\n",
      "first_name    500 non-null object\n",
      "last_name     500 non-null object\n",
      "reg_date      500 non-null object\n",
      "tariff        500 non-null object\n",
      "dtypes: int64(2), object(6)\n",
      "memory usage: 31.4+ KB\n"
     ]
    },
    {
     "data": {
      "text/plain": [
       "(None, None)"
      ]
     },
     "execution_count": 8,
     "metadata": {},
     "output_type": "execute_result"
    }
   ],
   "source": [
    "# вызов функции df_info_head()\n",
    "# с аргументом 'users'\n",
    "df_info_head(users)"
   ]
  },
  {
   "cell_type": "markdown",
   "id": "603361f8",
   "metadata": {},
   "source": [
    "Всего в таблице 8 столбцов с типами данных - целочисленный `int64` и строковый объект `object`:\n",
    "\n",
    "1. `user_id` — уникальный идентификатор пользователя\n",
    "2. `age` — возраст пользователя в годах\n",
    "3. `churn_date` — дата прекращения пользования тарифом (если значение пропущено, то тариф ещё действовал на момент выгрузки данных)\n",
    "4. `city` — город проживания пользователя\n",
    "5. `first_name` — имя пользователя\n",
    "6. `last_name` — фамилия пользователя\n",
    "7. `reg_date` — дата подключения тарифа (день/месяц/год)\n",
    "8. `tarif` — название тарифного плана\n"
   ]
  },
  {
   "cell_type": "markdown",
   "id": "7a811c75",
   "metadata": {},
   "source": [
    "### Вывод\n",
    "\n",
    "---\n",
    "\n",
    "Записи в таблицах содержат полную информацию об абонентах телекоммуникационной компании «Мегалайн»: персональные данные и id пользователей, названия и даты подключения тарифов, информацию о звонках, сообщениях и интернет-сессиях, а также условия пользования самими тарифами. Для проведения исследования важны практически все поля датафреймов, но предстоит рассчитывать и добавлять новые.\n",
    "\n",
    "Входные данные содержат видимые проблемы: в датасете `internet` продублирован столбец с id - название `Unnamed: 0` - его следует удалить, также все столбцы с датами должны быть приведены к типу `datetime`.\n",
    "\n",
    "Ошибочно пропущенных и некорректных значений не наблюдается, но в некоторых столбцах могут присутствовать скрытые аномалии. Обработать ошибки и привести типы данных предстоит на следующем этапе исследования.\n",
    "\n",
    "---"
   ]
  },
  {
   "cell_type": "markdown",
   "id": "4ada1b3c",
   "metadata": {},
   "source": [
    "## Предобработка данных\n",
    "\n",
    "---"
   ]
  },
  {
   "cell_type": "markdown",
   "id": "4810390e",
   "metadata": {},
   "source": [
    "Для начала создадим функцию `show_artifacts`, которая выводит количество отрицательных и нулевых значений в столбце:"
   ]
  },
  {
   "cell_type": "code",
   "execution_count": 9,
   "id": "69d8356e",
   "metadata": {},
   "outputs": [],
   "source": [
    "# создание функции show_artifacts() \n",
    "# с аргументами 'data' и 'column'\n",
    "def show_artifacts(data, column):\n",
    "    '''\n",
    "    Выводит количество отрицательных и нулевых \n",
    "    значений в таблице 'data' по столбцу 'column'\n",
    "    '''\n",
    "    print(column)\n",
    "    print('-------------------------')\n",
    "    print('Нулевых значений:', len(data[data[column] == 0]))\n",
    "    print('Отрицательных значений:', len(data[data[column] < 0]))\n",
    "    print()"
   ]
  },
  {
   "cell_type": "markdown",
   "id": "6fde0416",
   "metadata": {},
   "source": [
    "Также создадим функцию `to_datetime_values` для приведения записей с датами к типу `datetime`:"
   ]
  },
  {
   "cell_type": "code",
   "execution_count": 10,
   "id": "9638ca51",
   "metadata": {},
   "outputs": [],
   "source": [
    "# создание функции to_datetime_values() \n",
    "# с аргументами 'data' и 'column'\n",
    "def to_datetime_values(data, column):\n",
    "    '''\n",
    "    Приводит строковые значения 'YYYY-MM-DD'\n",
    "    к datetime с выводом типа данных по итогу\n",
    "    '''\n",
    "    print(column)\n",
    "    print('--------------')\n",
    "    data[column] = pd.to_datetime(data[column], format='%Y-%m-%dT%H:%M:%S')\n",
    "    print(data[column].dtype)\n",
    "    print()"
   ]
  },
  {
   "cell_type": "markdown",
   "id": "1f7f748a",
   "metadata": {},
   "source": [
    "**`calls` - информация о звонках**\n",
    "\n",
    "---"
   ]
  },
  {
   "cell_type": "markdown",
   "id": "897d3b27",
   "metadata": {},
   "source": [
    "Судя по информации о таблице, пропущенных значений в ней не содержится. Проверим столбец `duration` на присутствие отрицательных и нулевых значений:"
   ]
  },
  {
   "cell_type": "code",
   "execution_count": 11,
   "id": "70bc0703",
   "metadata": {},
   "outputs": [
    {
     "name": "stdout",
     "output_type": "stream",
     "text": [
      "duration\n",
      "-------------------------\n",
      "Нулевых значений: 39613\n",
      "Отрицательных значений: 0\n",
      "\n"
     ]
    }
   ],
   "source": [
    "# вызов функции show_artifacts() с аргументами 'calls' и 'duration'\n",
    "show_artifacts(calls, 'duration')"
   ]
  },
  {
   "cell_type": "markdown",
   "id": "9354c615",
   "metadata": {},
   "source": [
    "Значения, равные нулю - вызовы с нулевой продолжительностью - могли быть как исходящими (когда абонент не дозвонился), так и входящими (когда абонент не взял трубку) для данного датасета и конкретного столбца корректны и не нуждаются в обработке.\n",
    "\n",
    "Приведем поле `call_date` к типу `datetime`:"
   ]
  },
  {
   "cell_type": "code",
   "execution_count": 12,
   "id": "5d8a762a",
   "metadata": {},
   "outputs": [
    {
     "name": "stdout",
     "output_type": "stream",
     "text": [
      "call_date\n",
      "--------------\n",
      "datetime64[ns]\n",
      "\n"
     ]
    }
   ],
   "source": [
    "# вызов функции to_datetime_values() с аргументами 'calls' и 'call_date'\n",
    "to_datetime_values(calls, 'call_date')"
   ]
  },
  {
   "cell_type": "markdown",
   "id": "c5bdde8c",
   "metadata": {},
   "source": [
    "**`internet` - информация об интернет-сессиях**\n",
    "\n",
    "---"
   ]
  },
  {
   "cell_type": "markdown",
   "id": "43a18616",
   "metadata": {},
   "source": [
    "Столбцы данного датасета также не содержат пропущенных значений. \n",
    "\n",
    "Удалим задублированные id датафрейма - столбец `Unnamed: 0`, возникший, вероятно, ввиду некорретной выгрузки данных:"
   ]
  },
  {
   "cell_type": "code",
   "execution_count": 13,
   "id": "15c795af",
   "metadata": {},
   "outputs": [
    {
     "data": {
      "text/html": [
       "<div>\n",
       "<style scoped>\n",
       "    .dataframe tbody tr th:only-of-type {\n",
       "        vertical-align: middle;\n",
       "    }\n",
       "\n",
       "    .dataframe tbody tr th {\n",
       "        vertical-align: top;\n",
       "    }\n",
       "\n",
       "    .dataframe thead th {\n",
       "        text-align: right;\n",
       "    }\n",
       "</style>\n",
       "<table border=\"1\" class=\"dataframe\">\n",
       "  <thead>\n",
       "    <tr style=\"text-align: right;\">\n",
       "      <th></th>\n",
       "      <th>id</th>\n",
       "      <th>mb_used</th>\n",
       "      <th>session_date</th>\n",
       "      <th>user_id</th>\n",
       "    </tr>\n",
       "  </thead>\n",
       "  <tbody>\n",
       "    <tr>\n",
       "      <td>57406</td>\n",
       "      <td>1191_202</td>\n",
       "      <td>37.47</td>\n",
       "      <td>2018-09-14</td>\n",
       "      <td>1191</td>\n",
       "    </tr>\n",
       "    <tr>\n",
       "      <td>120914</td>\n",
       "      <td>1408_222</td>\n",
       "      <td>543.17</td>\n",
       "      <td>2018-12-13</td>\n",
       "      <td>1408</td>\n",
       "    </tr>\n",
       "    <tr>\n",
       "      <td>43964</td>\n",
       "      <td>1152_182</td>\n",
       "      <td>716.15</td>\n",
       "      <td>2018-02-28</td>\n",
       "      <td>1152</td>\n",
       "    </tr>\n",
       "    <tr>\n",
       "      <td>109790</td>\n",
       "      <td>1374_1</td>\n",
       "      <td>208.10</td>\n",
       "      <td>2018-09-17</td>\n",
       "      <td>1374</td>\n",
       "    </tr>\n",
       "    <tr>\n",
       "      <td>126544</td>\n",
       "      <td>1425_73</td>\n",
       "      <td>285.94</td>\n",
       "      <td>2018-06-27</td>\n",
       "      <td>1425</td>\n",
       "    </tr>\n",
       "  </tbody>\n",
       "</table>\n",
       "</div>"
      ],
      "text/plain": [
       "              id  mb_used session_date  user_id\n",
       "57406   1191_202    37.47   2018-09-14     1191\n",
       "120914  1408_222   543.17   2018-12-13     1408\n",
       "43964   1152_182   716.15   2018-02-28     1152\n",
       "109790    1374_1   208.10   2018-09-17     1374\n",
       "126544   1425_73   285.94   2018-06-27     1425"
      ]
     },
     "execution_count": 13,
     "metadata": {},
     "output_type": "execute_result"
    }
   ],
   "source": [
    "# удаление столбца 'Unnamed: 0' методом drop()\n",
    "internet = internet.drop('Unnamed: 0', axis=1)\n",
    "\n",
    "# проверка - получение 5 образцов записей \n",
    "# таблицы 'internet' методом sample()\n",
    "internet.sample(5)"
   ]
  },
  {
   "cell_type": "markdown",
   "id": "1891dffd",
   "metadata": {},
   "source": [
    "Проверим столбец `mb_used` на присутствие отрицательных и нулевых значений:"
   ]
  },
  {
   "cell_type": "code",
   "execution_count": 14,
   "id": "aa8caecf",
   "metadata": {},
   "outputs": [
    {
     "name": "stdout",
     "output_type": "stream",
     "text": [
      "mb_used\n",
      "-------------------------\n",
      "Нулевых значений: 19598\n",
      "Отрицательных значений: 0\n",
      "\n"
     ]
    }
   ],
   "source": [
    "# вызов функции show_artifacts() с аргументами 'internet' и 'mb_used'\n",
    "show_artifacts(internet, 'mb_used')"
   ]
  },
  {
   "cell_type": "markdown",
   "id": "000ee894",
   "metadata": {},
   "source": [
    "Нулевые значения - отсутствие пользования интернетом (нет объема потраченного за сессию интернет-трафика) - оставляются без изменений.\n",
    "\n",
    "Приведем поле `session_date` к типу `datetime`:"
   ]
  },
  {
   "cell_type": "code",
   "execution_count": 15,
   "id": "cd596099",
   "metadata": {},
   "outputs": [
    {
     "name": "stdout",
     "output_type": "stream",
     "text": [
      "session_date\n",
      "--------------\n",
      "datetime64[ns]\n",
      "\n"
     ]
    }
   ],
   "source": [
    "# вызов функции to_datetime_values() с аргументами 'internet' и 'session_date'\n",
    "to_datetime_values(internet, 'session_date')"
   ]
  },
  {
   "cell_type": "markdown",
   "id": "666fdb1a",
   "metadata": {},
   "source": [
    "**`messages` - информация о сообщениях**\n",
    "\n",
    "---"
   ]
  },
  {
   "cell_type": "markdown",
   "id": "047e1145",
   "metadata": {},
   "source": [
    "Судя по информации о таблице, пропущенных значений в ней не содержится.\n",
    "\n",
    "Приведем поле `message_date` к типу `datetime`:"
   ]
  },
  {
   "cell_type": "code",
   "execution_count": 16,
   "id": "0b267755",
   "metadata": {},
   "outputs": [
    {
     "name": "stdout",
     "output_type": "stream",
     "text": [
      "message_date\n",
      "--------------\n",
      "datetime64[ns]\n",
      "\n"
     ]
    }
   ],
   "source": [
    "# вызов функции to_datetime_values() с аргументами 'messages' и 'message_date'\n",
    "to_datetime_values(messages, 'message_date')"
   ]
  },
  {
   "cell_type": "markdown",
   "id": "1b61c27d",
   "metadata": {},
   "source": [
    "**`users` - информация о пользователях**\n",
    "\n",
    "---"
   ]
  },
  {
   "cell_type": "markdown",
   "id": "457a39b0",
   "metadata": {},
   "source": [
    "Пропущенные значения содержатся в столбце `churn_date` — дата прекращения пользования тарифом. Но в описании данных сказано, что если значение пропущено, то тариф ещё действовал на момент выгрузки данных.\n",
    "\n",
    "Приведем столбцы `churn_date` и `reg_date` к типу `datetime`:"
   ]
  },
  {
   "cell_type": "code",
   "execution_count": 17,
   "id": "6a7ab6ba",
   "metadata": {},
   "outputs": [
    {
     "name": "stdout",
     "output_type": "stream",
     "text": [
      "churn_date\n",
      "--------------\n",
      "datetime64[ns]\n",
      "\n",
      "reg_date\n",
      "--------------\n",
      "datetime64[ns]\n",
      "\n"
     ]
    }
   ],
   "source": [
    "# вызов функции to_datetime_values() с аргументами 'users' и 'churn_date'\n",
    "to_datetime_values(users, 'churn_date')\n",
    "\n",
    "# вызов функции to_datetime_values() с аргументами 'users' и 'reg_date'\n",
    "to_datetime_values(users, 'reg_date')"
   ]
  },
  {
   "cell_type": "markdown",
   "id": "f8122be1",
   "metadata": {},
   "source": [
    "Проверим на артефакты столбец `age`:"
   ]
  },
  {
   "cell_type": "code",
   "execution_count": 18,
   "id": "801f071f",
   "metadata": {
    "scrolled": true
   },
   "outputs": [
    {
     "name": "stdout",
     "output_type": "stream",
     "text": [
      "age\n",
      "-------------------------\n",
      "Нулевых значений: 0\n",
      "Отрицательных значений: 0\n",
      "\n"
     ]
    }
   ],
   "source": [
    "# вызов функции show_artifacts() с аргументами 'users' и 'age'\n",
    "show_artifacts(users, 'age')"
   ]
  },
  {
   "cell_type": "markdown",
   "id": "33e88591",
   "metadata": {},
   "source": [
    "Столбец `city` важен для проверки второй гипотезы. Проверим его на корректность, получив список уникальных значений:"
   ]
  },
  {
   "cell_type": "code",
   "execution_count": 19,
   "id": "cf36f0be",
   "metadata": {},
   "outputs": [
    {
     "data": {
      "text/plain": [
       "array(['Краснодар', 'Москва', 'Стерлитамак', 'Новокузнецк',\n",
       "       'Набережные Челны', 'Ульяновск', 'Челябинск', 'Пермь', 'Тюмень',\n",
       "       'Самара', 'Санкт-Петербург', 'Иваново', 'Чебоксары', 'Омск', 'Уфа',\n",
       "       'Томск', 'Чита', 'Мурманск', 'Петрозаводск', 'Тверь',\n",
       "       'Екатеринбург', 'Махачкала', 'Вологда', 'Череповец', 'Ярославль',\n",
       "       'Сочи', 'Хабаровск', 'Ставрополь', 'Рязань', 'Улан-Удэ', 'Тула',\n",
       "       'Саратов', 'Ростов-на-Дону', 'Казань', 'Иркутск', 'Курск',\n",
       "       'Калуга', 'Якутск', 'Астрахань', 'Химки', 'Владикавказ',\n",
       "       'Волгоград', 'Саранск', 'Ижевск', 'Новосибирск', 'Брянск',\n",
       "       'Тольятти', 'Нижний Тагил', 'Орёл', 'Белгород', 'Воронеж',\n",
       "       'Волжский', 'Курган', 'Барнаул', 'Красноярск', 'Архангельск',\n",
       "       'Липецк', 'Кемерово', 'Киров', 'Сургут', 'Пенза', 'Магнитогорск',\n",
       "       'Нижний Новгород', 'Кострома', 'Владивосток', 'Тамбов', 'Балашиха',\n",
       "       'Севастополь', 'Калининград', 'Оренбург', 'Смоленск',\n",
       "       'Нижневартовск', 'Владимир', 'Новороссийск', 'Грозный', 'Подольск'],\n",
       "      dtype=object)"
      ]
     },
     "execution_count": 19,
     "metadata": {},
     "output_type": "execute_result"
    }
   ],
   "source": [
    "# получение уникальных значений столбца\n",
    "# 'city' таблицы 'users' методом unique()\n",
    "users.city.unique()"
   ]
  },
  {
   "cell_type": "markdown",
   "id": "9272e904",
   "metadata": {},
   "source": [
    "Некорректных и ранее предобработанных значений не наблюдается."
   ]
  },
  {
   "cell_type": "markdown",
   "id": "ce785191",
   "metadata": {},
   "source": [
    "### Вывод\n",
    "\n",
    "---\n",
    "\n",
    "В ходе первого этапа исследования проведена первоначальная предобработка данных. Результаты по итогу:\n",
    "\n",
    "1. Созданы функции:\n",
    "    * `show_artifacts` - для вывода нулевых и отрицательных значений по столбцам\n",
    "    * `to_datetime_values` - с целью приведения строкового типа `object` к `datetime64` \n",
    "2. Столбец `call_date` таблицы `calls`, `session_date` таблицы `internet`, `message_date` - `messages` и `churn_date`, `reg_date` таблицы `users` приведены к `datetime64` для возможности вычисления временных параметров\n",
    "3. В таблице `internet` удален задублированный id датафрейма - столбец `Unnamed: 0`\n",
    "\n",
    "Нулевые значения не являются ошибками или пропусками в данных - они лишь указывают на несостоявшиеся входящие и исходящие звонки, а также неипользованные сессии интернет-трафика.\n",
    "\n",
    "Пропуски по столбцу `churn_date` в датасете `internet` означают действующий на момент выгрузки данных тарифный план абонента.\n",
    "\n",
    "---"
   ]
  },
  {
   "cell_type": "markdown",
   "id": "fdbe613a",
   "metadata": {},
   "source": [
    "## Расчет и добавление результатов в таблицу\n",
    "\n",
    "---"
   ]
  },
  {
   "cell_type": "markdown",
   "id": "8c111ef8",
   "metadata": {},
   "source": [
    "### Количество сделанных звонков и израсходованных минут по месяцам\n",
    "\n",
    "---"
   ]
  },
  {
   "cell_type": "markdown",
   "id": "680533fc",
   "metadata": {},
   "source": [
    "Перед проведением расчета израсходованных минут по месяцам необходимо брать в расчет следующее - «Мегалайн» всегда округляет вверх значения минут: к примеру, пользователь проговорил всего 1 секунду - в тарифе засчитывается целая минута.\n",
    "\n",
    "Для этого округлим вверх продолжительность вызова - значения столбца `duration` таблицы `calls`:"
   ]
  },
  {
   "cell_type": "code",
   "execution_count": 20,
   "id": "784f4889",
   "metadata": {},
   "outputs": [
    {
     "data": {
      "text/plain": [
       "159096    5\n",
       "89605     0\n",
       "180968    0\n",
       "160185    0\n",
       "149599    5\n",
       "Name: duration, dtype: int64"
      ]
     },
     "execution_count": 20,
     "metadata": {},
     "output_type": "execute_result"
    }
   ],
   "source": [
    "# округление вверх с помощью метода ceil() значений \n",
    "# столбца 'duration' таблицы 'calls' и приведенение\n",
    "# столбца к целочисленному типу 'int'\n",
    "calls.duration = np.ceil(calls.duration).astype(int)\n",
    "\n",
    "# проверка - получение 5 образцов записей\n",
    "# в столбце 'duration' методом sample()\n",
    "calls.duration.sample(5)"
   ]
  },
  {
   "cell_type": "markdown",
   "id": "973ee597",
   "metadata": {},
   "source": [
    "Для подсчета количества сделанных звонков и израсходованных минут по месяцам сгруппируем данные таблицы `calls` по полю `user_id` и номеру месяца звонка, полученному из столбца `call_date` методом `DatetimeIndex`. Для длительности звонка в минутах `duration` посчитаем сумму, для `id` - уникального номера звонка - их количество.\n",
    "\n",
    "Полученный данной группировкой датафрейм сохраним в переменной `users_calls`:"
   ]
  },
  {
   "cell_type": "code",
   "execution_count": 21,
   "id": "92669628",
   "metadata": {},
   "outputs": [],
   "source": [
    "# группировка методом groupby() таблицы 'calls' по столбцу 'user_id' и номеру\n",
    "# месяца звонка, полученному из столбца 'call_date' методом DatetimeIndex();\n",
    "# подсчет суммы продолжительности звонков 'duration' за месяц с помощью 'sum'\n",
    "# и количества звонков 'id' методом 'count' и реиндексация методом reset_index()\n",
    "users_calls = calls.groupby(['user_id', pd.DatetimeIndex(calls['call_date']).month])\\\n",
    "                            .agg({'duration':'sum', 'id':'count'}).reset_index()\n",
    "\n",
    "# переименование столбцов методом set_axis()\n",
    "users_calls.set_axis(['user_id', 'month', 'spent_minutes', 'calls_amount'], axis=1, inplace=True)"
   ]
  },
  {
   "cell_type": "markdown",
   "id": "d753e3c0",
   "metadata": {},
   "source": [
    "Получим первые пять строк и информацию о таблице:"
   ]
  },
  {
   "cell_type": "code",
   "execution_count": 22,
   "id": "284cca2d",
   "metadata": {},
   "outputs": [
    {
     "data": {
      "text/html": [
       "<div>\n",
       "<style scoped>\n",
       "    .dataframe tbody tr th:only-of-type {\n",
       "        vertical-align: middle;\n",
       "    }\n",
       "\n",
       "    .dataframe tbody tr th {\n",
       "        vertical-align: top;\n",
       "    }\n",
       "\n",
       "    .dataframe thead th {\n",
       "        text-align: right;\n",
       "    }\n",
       "</style>\n",
       "<table border=\"1\" class=\"dataframe\">\n",
       "  <thead>\n",
       "    <tr style=\"text-align: right;\">\n",
       "      <th></th>\n",
       "      <th>user_id</th>\n",
       "      <th>month</th>\n",
       "      <th>spent_minutes</th>\n",
       "      <th>calls_amount</th>\n",
       "    </tr>\n",
       "  </thead>\n",
       "  <tbody>\n",
       "    <tr>\n",
       "      <td>0</td>\n",
       "      <td>1000</td>\n",
       "      <td>5</td>\n",
       "      <td>159</td>\n",
       "      <td>22</td>\n",
       "    </tr>\n",
       "    <tr>\n",
       "      <td>1</td>\n",
       "      <td>1000</td>\n",
       "      <td>6</td>\n",
       "      <td>172</td>\n",
       "      <td>43</td>\n",
       "    </tr>\n",
       "    <tr>\n",
       "      <td>2</td>\n",
       "      <td>1000</td>\n",
       "      <td>7</td>\n",
       "      <td>340</td>\n",
       "      <td>47</td>\n",
       "    </tr>\n",
       "    <tr>\n",
       "      <td>3</td>\n",
       "      <td>1000</td>\n",
       "      <td>8</td>\n",
       "      <td>408</td>\n",
       "      <td>52</td>\n",
       "    </tr>\n",
       "    <tr>\n",
       "      <td>4</td>\n",
       "      <td>1000</td>\n",
       "      <td>9</td>\n",
       "      <td>466</td>\n",
       "      <td>58</td>\n",
       "    </tr>\n",
       "  </tbody>\n",
       "</table>\n",
       "</div>"
      ],
      "text/plain": [
       "   user_id  month  spent_minutes  calls_amount\n",
       "0     1000      5            159            22\n",
       "1     1000      6            172            43\n",
       "2     1000      7            340            47\n",
       "3     1000      8            408            52\n",
       "4     1000      9            466            58"
      ]
     },
     "metadata": {},
     "output_type": "display_data"
    },
    {
     "name": "stdout",
     "output_type": "stream",
     "text": [
      "<class 'pandas.core.frame.DataFrame'>\n",
      "RangeIndex: 3174 entries, 0 to 3173\n",
      "Data columns (total 4 columns):\n",
      "user_id          3174 non-null int64\n",
      "month            3174 non-null int64\n",
      "spent_minutes    3174 non-null int64\n",
      "calls_amount     3174 non-null int64\n",
      "dtypes: int64(4)\n",
      "memory usage: 99.3 KB\n"
     ]
    },
    {
     "data": {
      "text/plain": [
       "(None, None)"
      ]
     },
     "execution_count": 22,
     "metadata": {},
     "output_type": "execute_result"
    }
   ],
   "source": [
    "# вызов функции df_info_head()\n",
    "# с аргументом 'users_calls'\n",
    "df_info_head(users_calls)"
   ]
  },
  {
   "cell_type": "markdown",
   "id": "4f2f5121",
   "metadata": {},
   "source": [
    "Опишем столбцы таблицы `users_calls`:\n",
    "* `user_id` - идентификатор пользователя, сделавшего звонок\n",
    "* `month` - номер месяца звонка\n",
    "* `spent_minutes` - израсходованные минуты за месяц\n",
    "* `calls_amount` - количество звонков в месяц"
   ]
  },
  {
   "cell_type": "markdown",
   "id": "b6b50069",
   "metadata": {},
   "source": [
    "### Количество отправленных сообщений по месяцам\n",
    "\n",
    "---"
   ]
  },
  {
   "cell_type": "markdown",
   "id": "e97a7433",
   "metadata": {},
   "source": [
    "Сгруппируем данные таблицы `messages` по полю `user_id` и номеру месяца сообщения, полученному из столбца `call_date` методом `DatetimeIndex` и подсчитаем количество `id` - уникальных номеров сообщений.\n",
    "\n",
    "Полученный данной группировкой датафрейм сохраним в переменной `users_messages`:"
   ]
  },
  {
   "cell_type": "code",
   "execution_count": 23,
   "id": "bdc8be48",
   "metadata": {
    "scrolled": false
   },
   "outputs": [],
   "source": [
    "# группировка методом groupby() таблицы 'messages' по столбцу 'user_id' и номеру\n",
    "# месяца сообщения, полученному из столбца 'message_date' методом DatetimeIndex();\n",
    "# подсчет количества сообщений 'id' методом 'count' и реиндексация методом reset_index()\n",
    "users_messages = messages.groupby(['user_id', pd.DatetimeIndex(messages['message_date']).month])\\\n",
    "                                  .agg({'id':'count'}).reset_index()\n",
    "\n",
    "# переименование столбцов методом set_axis()\n",
    "users_messages.set_axis(['user_id', 'month', 'messages_amount'], axis=1, inplace=True)"
   ]
  },
  {
   "cell_type": "markdown",
   "id": "129c486c",
   "metadata": {},
   "source": [
    "Получим первые пять строк и информацию о таблице:"
   ]
  },
  {
   "cell_type": "code",
   "execution_count": 24,
   "id": "9c179208",
   "metadata": {},
   "outputs": [
    {
     "data": {
      "text/html": [
       "<div>\n",
       "<style scoped>\n",
       "    .dataframe tbody tr th:only-of-type {\n",
       "        vertical-align: middle;\n",
       "    }\n",
       "\n",
       "    .dataframe tbody tr th {\n",
       "        vertical-align: top;\n",
       "    }\n",
       "\n",
       "    .dataframe thead th {\n",
       "        text-align: right;\n",
       "    }\n",
       "</style>\n",
       "<table border=\"1\" class=\"dataframe\">\n",
       "  <thead>\n",
       "    <tr style=\"text-align: right;\">\n",
       "      <th></th>\n",
       "      <th>user_id</th>\n",
       "      <th>month</th>\n",
       "      <th>messages_amount</th>\n",
       "    </tr>\n",
       "  </thead>\n",
       "  <tbody>\n",
       "    <tr>\n",
       "      <td>0</td>\n",
       "      <td>1000</td>\n",
       "      <td>5</td>\n",
       "      <td>22</td>\n",
       "    </tr>\n",
       "    <tr>\n",
       "      <td>1</td>\n",
       "      <td>1000</td>\n",
       "      <td>6</td>\n",
       "      <td>60</td>\n",
       "    </tr>\n",
       "    <tr>\n",
       "      <td>2</td>\n",
       "      <td>1000</td>\n",
       "      <td>7</td>\n",
       "      <td>75</td>\n",
       "    </tr>\n",
       "    <tr>\n",
       "      <td>3</td>\n",
       "      <td>1000</td>\n",
       "      <td>8</td>\n",
       "      <td>81</td>\n",
       "    </tr>\n",
       "    <tr>\n",
       "      <td>4</td>\n",
       "      <td>1000</td>\n",
       "      <td>9</td>\n",
       "      <td>57</td>\n",
       "    </tr>\n",
       "  </tbody>\n",
       "</table>\n",
       "</div>"
      ],
      "text/plain": [
       "   user_id  month  messages_amount\n",
       "0     1000      5               22\n",
       "1     1000      6               60\n",
       "2     1000      7               75\n",
       "3     1000      8               81\n",
       "4     1000      9               57"
      ]
     },
     "metadata": {},
     "output_type": "display_data"
    },
    {
     "name": "stdout",
     "output_type": "stream",
     "text": [
      "<class 'pandas.core.frame.DataFrame'>\n",
      "RangeIndex: 2717 entries, 0 to 2716\n",
      "Data columns (total 3 columns):\n",
      "user_id            2717 non-null int64\n",
      "month              2717 non-null int64\n",
      "messages_amount    2717 non-null int64\n",
      "dtypes: int64(3)\n",
      "memory usage: 63.8 KB\n"
     ]
    },
    {
     "data": {
      "text/plain": [
       "(None, None)"
      ]
     },
     "execution_count": 24,
     "metadata": {},
     "output_type": "execute_result"
    }
   ],
   "source": [
    "# вызов функции df_info_head()\n",
    "# с аргументом 'users_messages'\n",
    "df_info_head(users_messages)"
   ]
  },
  {
   "cell_type": "markdown",
   "id": "7399bc8e",
   "metadata": {},
   "source": [
    "Опишем столбцы таблицы `users_messages`:\n",
    "* `user_id` - идентификатор пользователя, отправившего сообщение\n",
    "* `month` - номер месяца звонка\n",
    "* `messages_amount` - количество сообщений в месяц"
   ]
  },
  {
   "cell_type": "markdown",
   "id": "36776530",
   "metadata": {},
   "source": [
    "### Объем израсходованного интернет-трафика по месяцам\n",
    "\n",
    "---"
   ]
  },
  {
   "cell_type": "markdown",
   "id": "82c18392",
   "metadata": {},
   "source": [
    "Для подсчета объема израсходованного интернет-трафика по месяцам сгруппируем данные таблицы `internet` по полю `user_id` и номеру месяца звонка, полученному из столбца `call_date` методом `DatetimeIndex` и подсчитаем сумму потраченного за интернет-сессию трафика `mb_used`.\n",
    "\n",
    "Полученный данной группировкой датафрейм сохраним в переменной `users_traffic`:"
   ]
  },
  {
   "cell_type": "code",
   "execution_count": 25,
   "id": "b1a46190",
   "metadata": {
    "scrolled": true
   },
   "outputs": [],
   "source": [
    "# группировка методом groupby() таблицы 'internet' по столбцу 'user_id' и номеру месяца \n",
    "# интернет-сессии, полученному из столбца 'session_date' методом DatetimeIndex(); подсчет \n",
    "# суммарного трафика 'mb_used' за месяц методом 'sum' и реиндексация методом reset_index()\n",
    "users_traffic = internet.groupby(['user_id', pd.DatetimeIndex(internet['session_date']).month])\\\n",
    "                            .agg({'mb_used':'sum'}).reset_index()\n",
    "\n",
    "# переименование столбцов методом set_axis()\n",
    "users_traffic.set_axis(['user_id', 'month', 'spent_traffic'], axis=1, inplace=True)"
   ]
  },
  {
   "cell_type": "markdown",
   "id": "e331cbc1",
   "metadata": {},
   "source": [
    "Получим первые пять строк и информацию о таблице:"
   ]
  },
  {
   "cell_type": "code",
   "execution_count": 26,
   "id": "8c38cb0c",
   "metadata": {},
   "outputs": [
    {
     "data": {
      "text/html": [
       "<div>\n",
       "<style scoped>\n",
       "    .dataframe tbody tr th:only-of-type {\n",
       "        vertical-align: middle;\n",
       "    }\n",
       "\n",
       "    .dataframe tbody tr th {\n",
       "        vertical-align: top;\n",
       "    }\n",
       "\n",
       "    .dataframe thead th {\n",
       "        text-align: right;\n",
       "    }\n",
       "</style>\n",
       "<table border=\"1\" class=\"dataframe\">\n",
       "  <thead>\n",
       "    <tr style=\"text-align: right;\">\n",
       "      <th></th>\n",
       "      <th>user_id</th>\n",
       "      <th>month</th>\n",
       "      <th>spent_traffic</th>\n",
       "    </tr>\n",
       "  </thead>\n",
       "  <tbody>\n",
       "    <tr>\n",
       "      <td>0</td>\n",
       "      <td>1000</td>\n",
       "      <td>5</td>\n",
       "      <td>2253.49</td>\n",
       "    </tr>\n",
       "    <tr>\n",
       "      <td>1</td>\n",
       "      <td>1000</td>\n",
       "      <td>6</td>\n",
       "      <td>23233.77</td>\n",
       "    </tr>\n",
       "    <tr>\n",
       "      <td>2</td>\n",
       "      <td>1000</td>\n",
       "      <td>7</td>\n",
       "      <td>14003.64</td>\n",
       "    </tr>\n",
       "    <tr>\n",
       "      <td>3</td>\n",
       "      <td>1000</td>\n",
       "      <td>8</td>\n",
       "      <td>14055.93</td>\n",
       "    </tr>\n",
       "    <tr>\n",
       "      <td>4</td>\n",
       "      <td>1000</td>\n",
       "      <td>9</td>\n",
       "      <td>14568.91</td>\n",
       "    </tr>\n",
       "  </tbody>\n",
       "</table>\n",
       "</div>"
      ],
      "text/plain": [
       "   user_id  month  spent_traffic\n",
       "0     1000      5        2253.49\n",
       "1     1000      6       23233.77\n",
       "2     1000      7       14003.64\n",
       "3     1000      8       14055.93\n",
       "4     1000      9       14568.91"
      ]
     },
     "metadata": {},
     "output_type": "display_data"
    },
    {
     "name": "stdout",
     "output_type": "stream",
     "text": [
      "<class 'pandas.core.frame.DataFrame'>\n",
      "RangeIndex: 3203 entries, 0 to 3202\n",
      "Data columns (total 3 columns):\n",
      "user_id          3203 non-null int64\n",
      "month            3203 non-null int64\n",
      "spent_traffic    3203 non-null float64\n",
      "dtypes: float64(1), int64(2)\n",
      "memory usage: 75.2 KB\n"
     ]
    },
    {
     "data": {
      "text/plain": [
       "(None, None)"
      ]
     },
     "execution_count": 26,
     "metadata": {},
     "output_type": "execute_result"
    }
   ],
   "source": [
    "# вызов функции df_info_head()\n",
    "# с аргументом 'users_traffic'\n",
    "df_info_head(users_traffic)"
   ]
  },
  {
   "cell_type": "markdown",
   "id": "4cf8fca3",
   "metadata": {},
   "source": [
    "Опишем столбцы таблицы `users_traffic`:\n",
    "* `user_id` - идентификатор пользователя\n",
    "* `month` - номер месяца интернет-сессии\n",
    "* `spent_traffic` - сумма потраченного за месяц трафика "
   ]
  },
  {
   "cell_type": "markdown",
   "id": "5fd0cc01",
   "metadata": {},
   "source": [
    "### Помесячная выручка с каждого пользователя\n",
    "\n",
    "---"
   ]
  },
  {
   "cell_type": "markdown",
   "id": "25a68b23",
   "metadata": {},
   "source": [
    "Для начала объединим в таблицу `total_users_info` полученные выше группировки `users_calls`, `users_messages` и `users_traffic`, а также добавим информацию о пользователях - таблицу `users` и информацию о тарифных планах `tariffs`:"
   ]
  },
  {
   "cell_type": "code",
   "execution_count": 27,
   "id": "9c72eca5",
   "metadata": {
    "scrolled": true
   },
   "outputs": [],
   "source": [
    "# присоединение таблицы 'users_messages' к 'users_calls' методом\n",
    "# merge() способом 'outer' по столбцам 'user_id' и 'month' с\n",
    "# сохранением в переменной 'total_users_info'\n",
    "total_users_info = users_calls.merge(users_messages, on=['user_id', 'month'], how='outer')\n",
    "\n",
    "# присоединение таблицы 'users_traffic' к 'total_users_info' методом\n",
    "# merge() способом 'outer' по столбцам 'user_id' и 'month' с\n",
    "# сохранением в переменной 'total_users_info'\n",
    "total_users_info = total_users_info.merge(users_traffic, on=['user_id', 'month'], how='outer')\n",
    "\n",
    "# присоединение таблицы 'users' к 'total_users_info' методом\n",
    "# merge() способом 'outer' по столбцу 'user_id' с сохранением \n",
    "# в переменной 'total_users_info'\n",
    "total_users_info = total_users_info.merge(users, on='user_id', how='outer')\n",
    "\n",
    "# присоединение таблицы 'tariffs' к 'total_users_info' методом\n",
    "# merge() способом 'left' по столбцу в левом датафрейме 'tariff' \n",
    "# в правом датафрейме 'tariff_name' с сохранением  в переменной \n",
    "# 'total_users_info'\n",
    "total_users_info = total_users_info.merge(tariffs, left_on='tariff', right_on='tariff_name', how='left')"
   ]
  },
  {
   "cell_type": "markdown",
   "id": "5dd93a81",
   "metadata": {},
   "source": [
    "Проверим имеющееся количество абонентов после группировки - их должно быть `500`:"
   ]
  },
  {
   "cell_type": "code",
   "execution_count": 28,
   "id": "e18f0b62",
   "metadata": {},
   "outputs": [
    {
     "data": {
      "text/plain": [
       "500"
      ]
     },
     "execution_count": 28,
     "metadata": {},
     "output_type": "execute_result"
    }
   ],
   "source": [
    "# получение количества уникальных значений \n",
    "# по столбцу 'user_id' методом nunique()\n",
    "total_users_info.user_id.nunique()"
   ]
  },
  {
   "cell_type": "markdown",
   "id": "3460b77c",
   "metadata": {},
   "source": [
    "Получим первые пять строк и информацию о таблице `total_users_info`:"
   ]
  },
  {
   "cell_type": "code",
   "execution_count": 29,
   "id": "29010a7d",
   "metadata": {},
   "outputs": [
    {
     "data": {
      "text/html": [
       "<div>\n",
       "<style scoped>\n",
       "    .dataframe tbody tr th:only-of-type {\n",
       "        vertical-align: middle;\n",
       "    }\n",
       "\n",
       "    .dataframe tbody tr th {\n",
       "        vertical-align: top;\n",
       "    }\n",
       "\n",
       "    .dataframe thead th {\n",
       "        text-align: right;\n",
       "    }\n",
       "</style>\n",
       "<table border=\"1\" class=\"dataframe\">\n",
       "  <thead>\n",
       "    <tr style=\"text-align: right;\">\n",
       "      <th></th>\n",
       "      <th>user_id</th>\n",
       "      <th>month</th>\n",
       "      <th>spent_minutes</th>\n",
       "      <th>calls_amount</th>\n",
       "      <th>messages_amount</th>\n",
       "      <th>spent_traffic</th>\n",
       "      <th>age</th>\n",
       "      <th>churn_date</th>\n",
       "      <th>city</th>\n",
       "      <th>first_name</th>\n",
       "      <th>...</th>\n",
       "      <th>reg_date</th>\n",
       "      <th>tariff</th>\n",
       "      <th>messages_included</th>\n",
       "      <th>mb_per_month_included</th>\n",
       "      <th>minutes_included</th>\n",
       "      <th>rub_monthly_fee</th>\n",
       "      <th>rub_per_gb</th>\n",
       "      <th>rub_per_message</th>\n",
       "      <th>rub_per_minute</th>\n",
       "      <th>tariff_name</th>\n",
       "    </tr>\n",
       "  </thead>\n",
       "  <tbody>\n",
       "    <tr>\n",
       "      <td>0</td>\n",
       "      <td>1000</td>\n",
       "      <td>5.0</td>\n",
       "      <td>159.0</td>\n",
       "      <td>22.0</td>\n",
       "      <td>22.0</td>\n",
       "      <td>2253.49</td>\n",
       "      <td>52</td>\n",
       "      <td>NaT</td>\n",
       "      <td>Краснодар</td>\n",
       "      <td>Рафаил</td>\n",
       "      <td>...</td>\n",
       "      <td>2018-05-25</td>\n",
       "      <td>ultra</td>\n",
       "      <td>1000</td>\n",
       "      <td>30720</td>\n",
       "      <td>3000</td>\n",
       "      <td>1950</td>\n",
       "      <td>150</td>\n",
       "      <td>1</td>\n",
       "      <td>1</td>\n",
       "      <td>ultra</td>\n",
       "    </tr>\n",
       "    <tr>\n",
       "      <td>1</td>\n",
       "      <td>1000</td>\n",
       "      <td>6.0</td>\n",
       "      <td>172.0</td>\n",
       "      <td>43.0</td>\n",
       "      <td>60.0</td>\n",
       "      <td>23233.77</td>\n",
       "      <td>52</td>\n",
       "      <td>NaT</td>\n",
       "      <td>Краснодар</td>\n",
       "      <td>Рафаил</td>\n",
       "      <td>...</td>\n",
       "      <td>2018-05-25</td>\n",
       "      <td>ultra</td>\n",
       "      <td>1000</td>\n",
       "      <td>30720</td>\n",
       "      <td>3000</td>\n",
       "      <td>1950</td>\n",
       "      <td>150</td>\n",
       "      <td>1</td>\n",
       "      <td>1</td>\n",
       "      <td>ultra</td>\n",
       "    </tr>\n",
       "    <tr>\n",
       "      <td>2</td>\n",
       "      <td>1000</td>\n",
       "      <td>7.0</td>\n",
       "      <td>340.0</td>\n",
       "      <td>47.0</td>\n",
       "      <td>75.0</td>\n",
       "      <td>14003.64</td>\n",
       "      <td>52</td>\n",
       "      <td>NaT</td>\n",
       "      <td>Краснодар</td>\n",
       "      <td>Рафаил</td>\n",
       "      <td>...</td>\n",
       "      <td>2018-05-25</td>\n",
       "      <td>ultra</td>\n",
       "      <td>1000</td>\n",
       "      <td>30720</td>\n",
       "      <td>3000</td>\n",
       "      <td>1950</td>\n",
       "      <td>150</td>\n",
       "      <td>1</td>\n",
       "      <td>1</td>\n",
       "      <td>ultra</td>\n",
       "    </tr>\n",
       "    <tr>\n",
       "      <td>3</td>\n",
       "      <td>1000</td>\n",
       "      <td>8.0</td>\n",
       "      <td>408.0</td>\n",
       "      <td>52.0</td>\n",
       "      <td>81.0</td>\n",
       "      <td>14055.93</td>\n",
       "      <td>52</td>\n",
       "      <td>NaT</td>\n",
       "      <td>Краснодар</td>\n",
       "      <td>Рафаил</td>\n",
       "      <td>...</td>\n",
       "      <td>2018-05-25</td>\n",
       "      <td>ultra</td>\n",
       "      <td>1000</td>\n",
       "      <td>30720</td>\n",
       "      <td>3000</td>\n",
       "      <td>1950</td>\n",
       "      <td>150</td>\n",
       "      <td>1</td>\n",
       "      <td>1</td>\n",
       "      <td>ultra</td>\n",
       "    </tr>\n",
       "    <tr>\n",
       "      <td>4</td>\n",
       "      <td>1000</td>\n",
       "      <td>9.0</td>\n",
       "      <td>466.0</td>\n",
       "      <td>58.0</td>\n",
       "      <td>57.0</td>\n",
       "      <td>14568.91</td>\n",
       "      <td>52</td>\n",
       "      <td>NaT</td>\n",
       "      <td>Краснодар</td>\n",
       "      <td>Рафаил</td>\n",
       "      <td>...</td>\n",
       "      <td>2018-05-25</td>\n",
       "      <td>ultra</td>\n",
       "      <td>1000</td>\n",
       "      <td>30720</td>\n",
       "      <td>3000</td>\n",
       "      <td>1950</td>\n",
       "      <td>150</td>\n",
       "      <td>1</td>\n",
       "      <td>1</td>\n",
       "      <td>ultra</td>\n",
       "    </tr>\n",
       "  </tbody>\n",
       "</table>\n",
       "<p>5 rows × 21 columns</p>\n",
       "</div>"
      ],
      "text/plain": [
       "   user_id  month  spent_minutes  calls_amount  messages_amount  \\\n",
       "0     1000    5.0          159.0          22.0             22.0   \n",
       "1     1000    6.0          172.0          43.0             60.0   \n",
       "2     1000    7.0          340.0          47.0             75.0   \n",
       "3     1000    8.0          408.0          52.0             81.0   \n",
       "4     1000    9.0          466.0          58.0             57.0   \n",
       "\n",
       "   spent_traffic  age churn_date       city first_name  ...   reg_date tariff  \\\n",
       "0        2253.49   52        NaT  Краснодар     Рафаил  ... 2018-05-25  ultra   \n",
       "1       23233.77   52        NaT  Краснодар     Рафаил  ... 2018-05-25  ultra   \n",
       "2       14003.64   52        NaT  Краснодар     Рафаил  ... 2018-05-25  ultra   \n",
       "3       14055.93   52        NaT  Краснодар     Рафаил  ... 2018-05-25  ultra   \n",
       "4       14568.91   52        NaT  Краснодар     Рафаил  ... 2018-05-25  ultra   \n",
       "\n",
       "  messages_included  mb_per_month_included  minutes_included  rub_monthly_fee  \\\n",
       "0              1000                  30720              3000             1950   \n",
       "1              1000                  30720              3000             1950   \n",
       "2              1000                  30720              3000             1950   \n",
       "3              1000                  30720              3000             1950   \n",
       "4              1000                  30720              3000             1950   \n",
       "\n",
       "   rub_per_gb  rub_per_message  rub_per_minute  tariff_name  \n",
       "0         150                1               1        ultra  \n",
       "1         150                1               1        ultra  \n",
       "2         150                1               1        ultra  \n",
       "3         150                1               1        ultra  \n",
       "4         150                1               1        ultra  \n",
       "\n",
       "[5 rows x 21 columns]"
      ]
     },
     "metadata": {},
     "output_type": "display_data"
    },
    {
     "name": "stdout",
     "output_type": "stream",
     "text": [
      "<class 'pandas.core.frame.DataFrame'>\n",
      "Int64Index: 3216 entries, 0 to 3215\n",
      "Data columns (total 21 columns):\n",
      "user_id                  3216 non-null int64\n",
      "month                    3214 non-null float64\n",
      "spent_minutes            3174 non-null float64\n",
      "calls_amount             3174 non-null float64\n",
      "messages_amount          2717 non-null float64\n",
      "spent_traffic            3203 non-null float64\n",
      "age                      3216 non-null int64\n",
      "churn_date               189 non-null datetime64[ns]\n",
      "city                     3216 non-null object\n",
      "first_name               3216 non-null object\n",
      "last_name                3216 non-null object\n",
      "reg_date                 3216 non-null datetime64[ns]\n",
      "tariff                   3216 non-null object\n",
      "messages_included        3216 non-null int64\n",
      "mb_per_month_included    3216 non-null int64\n",
      "minutes_included         3216 non-null int64\n",
      "rub_monthly_fee          3216 non-null int64\n",
      "rub_per_gb               3216 non-null int64\n",
      "rub_per_message          3216 non-null int64\n",
      "rub_per_minute           3216 non-null int64\n",
      "tariff_name              3216 non-null object\n",
      "dtypes: datetime64[ns](2), float64(5), int64(9), object(5)\n",
      "memory usage: 552.8+ KB\n"
     ]
    },
    {
     "data": {
      "text/plain": [
       "(None, None)"
      ]
     },
     "execution_count": 29,
     "metadata": {},
     "output_type": "execute_result"
    }
   ],
   "source": [
    "# вызов функции df_info_head() с\n",
    "# аргументом 'total_users_info'\n",
    "df_info_head(total_users_info)"
   ]
  },
  {
   "cell_type": "markdown",
   "id": "ebaa3c61",
   "metadata": {},
   "source": [
    "Наблюдаем значения `NaN` по столбцам:\n",
    "* `month` - номер месяца\n",
    "* `spent_minutes` - сумма израсходованных минут за месяц \n",
    "* `calls_amount` - количество звонков \n",
    "* `messages_amount` - количество сообщений \n",
    "* `spent_traffic` - объем израсходованного трафика \n",
    "* `churn_date` - дата прекращения пользования тарифом\n",
    "\n",
    "Пропуски по столбцу `churn_date` были описаны ранее - они означают, что на момент выгрузки данных абонент еще пользовался тарифом. \n",
    "\n",
    "Получим строки со значениями `NaN` по столбцу `month`:"
   ]
  },
  {
   "cell_type": "code",
   "execution_count": 30,
   "id": "c922c9b5",
   "metadata": {},
   "outputs": [
    {
     "data": {
      "text/html": [
       "<div>\n",
       "<style scoped>\n",
       "    .dataframe tbody tr th:only-of-type {\n",
       "        vertical-align: middle;\n",
       "    }\n",
       "\n",
       "    .dataframe tbody tr th {\n",
       "        vertical-align: top;\n",
       "    }\n",
       "\n",
       "    .dataframe thead th {\n",
       "        text-align: right;\n",
       "    }\n",
       "</style>\n",
       "<table border=\"1\" class=\"dataframe\">\n",
       "  <thead>\n",
       "    <tr style=\"text-align: right;\">\n",
       "      <th></th>\n",
       "      <th>user_id</th>\n",
       "      <th>month</th>\n",
       "      <th>spent_minutes</th>\n",
       "      <th>calls_amount</th>\n",
       "      <th>messages_amount</th>\n",
       "      <th>spent_traffic</th>\n",
       "      <th>age</th>\n",
       "      <th>churn_date</th>\n",
       "      <th>city</th>\n",
       "      <th>first_name</th>\n",
       "      <th>...</th>\n",
       "      <th>reg_date</th>\n",
       "      <th>tariff</th>\n",
       "      <th>messages_included</th>\n",
       "      <th>mb_per_month_included</th>\n",
       "      <th>minutes_included</th>\n",
       "      <th>rub_monthly_fee</th>\n",
       "      <th>rub_per_gb</th>\n",
       "      <th>rub_per_message</th>\n",
       "      <th>rub_per_minute</th>\n",
       "      <th>tariff_name</th>\n",
       "    </tr>\n",
       "  </thead>\n",
       "  <tbody>\n",
       "    <tr>\n",
       "      <td>3214</td>\n",
       "      <td>1128</td>\n",
       "      <td>NaN</td>\n",
       "      <td>NaN</td>\n",
       "      <td>NaN</td>\n",
       "      <td>NaN</td>\n",
       "      <td>NaN</td>\n",
       "      <td>51</td>\n",
       "      <td>2018-12-23</td>\n",
       "      <td>Волжский</td>\n",
       "      <td>Ксения</td>\n",
       "      <td>...</td>\n",
       "      <td>2018-12-15</td>\n",
       "      <td>ultra</td>\n",
       "      <td>1000</td>\n",
       "      <td>30720</td>\n",
       "      <td>3000</td>\n",
       "      <td>1950</td>\n",
       "      <td>150</td>\n",
       "      <td>1</td>\n",
       "      <td>1</td>\n",
       "      <td>ultra</td>\n",
       "    </tr>\n",
       "    <tr>\n",
       "      <td>3215</td>\n",
       "      <td>1371</td>\n",
       "      <td>NaN</td>\n",
       "      <td>NaN</td>\n",
       "      <td>NaN</td>\n",
       "      <td>NaN</td>\n",
       "      <td>NaN</td>\n",
       "      <td>50</td>\n",
       "      <td>2018-12-30</td>\n",
       "      <td>Омск</td>\n",
       "      <td>Ириней</td>\n",
       "      <td>...</td>\n",
       "      <td>2018-12-25</td>\n",
       "      <td>smart</td>\n",
       "      <td>50</td>\n",
       "      <td>15360</td>\n",
       "      <td>500</td>\n",
       "      <td>550</td>\n",
       "      <td>200</td>\n",
       "      <td>3</td>\n",
       "      <td>3</td>\n",
       "      <td>smart</td>\n",
       "    </tr>\n",
       "  </tbody>\n",
       "</table>\n",
       "<p>2 rows × 21 columns</p>\n",
       "</div>"
      ],
      "text/plain": [
       "      user_id  month  spent_minutes  calls_amount  messages_amount  \\\n",
       "3214     1128    NaN            NaN           NaN              NaN   \n",
       "3215     1371    NaN            NaN           NaN              NaN   \n",
       "\n",
       "      spent_traffic  age churn_date      city first_name  ...   reg_date  \\\n",
       "3214            NaN   51 2018-12-23  Волжский     Ксения  ... 2018-12-15   \n",
       "3215            NaN   50 2018-12-30      Омск     Ириней  ... 2018-12-25   \n",
       "\n",
       "     tariff messages_included  mb_per_month_included  minutes_included  \\\n",
       "3214  ultra              1000                  30720              3000   \n",
       "3215  smart                50                  15360               500   \n",
       "\n",
       "      rub_monthly_fee  rub_per_gb  rub_per_message  rub_per_minute  \\\n",
       "3214             1950         150                1               1   \n",
       "3215              550         200                3               3   \n",
       "\n",
       "      tariff_name  \n",
       "3214        ultra  \n",
       "3215        smart  \n",
       "\n",
       "[2 rows x 21 columns]"
      ]
     },
     "execution_count": 30,
     "metadata": {},
     "output_type": "execute_result"
    }
   ],
   "source": [
    "# получение записей со значениями 'NaN' \n",
    "# по столбцу 'month' методом query()\n",
    "total_users_info.query('month.isna()')"
   ]
  },
  {
   "cell_type": "markdown",
   "id": "1a0cc5cb",
   "metadata": {},
   "source": []
  },
  {
   "cell_type": "markdown",
   "id": "9c302891",
   "metadata": {},
   "source": [
    "Становится ясно, почему имеются пропуски по данному столбцу. Абонент с `user_id` `1128` был клиентом компании всего 8 дней, а `1371` - 5 дней и не совершали каких-либо действий по тарифу.\n",
    "\n",
    "По столбцам `spent_minutes` и `calls_amount` логично отсутствие исходящих звонков (на что косвенно указывает одинаковое количество значений `NaN` по этим столбцам), для `messages_amount` это означает отсутствие отправленных абонентом за месяц сообщений, а трафик `spent_traffic` - отсутствие интернет-сессий за месяц. \n",
    "\n",
    "Во всех случаях логично заполнить пропуски нулевыми значениями:"
   ]
  },
  {
   "cell_type": "code",
   "execution_count": 31,
   "id": "aa5689f2",
   "metadata": {},
   "outputs": [
    {
     "data": {
      "text/plain": [
       "month              0\n",
       "spent_minutes      0\n",
       "calls_amount       0\n",
       "messages_amount    0\n",
       "spent_traffic      0\n",
       "dtype: int64"
      ]
     },
     "execution_count": 31,
     "metadata": {},
     "output_type": "execute_result"
    }
   ],
   "source": [
    "# заполнение значений 'NaN' в столбцах 'month', 'spent_minutes', 'calls_amount', \n",
    "# 'messages_amount' и 'spent_traffic' нулями методом replace()\n",
    "total_users_info[['month', 'spent_minutes', 'calls_amount', 'messages_amount', 'spent_traffic']] =\\\n",
    "total_users_info[['month', 'spent_minutes', 'calls_amount', 'messages_amount', 'spent_traffic']].replace(np.nan, 0)\n",
    "\n",
    "# проверка - получение количества значений 'NaN' по столбцам 'month', 'spent_minutes',  \n",
    "# 'calls_amount', 'messages_amount' и 'spent_traffic' методами isna() и sum()\n",
    "total_users_info[['month', 'spent_minutes', 'calls_amount', 'messages_amount', 'spent_traffic']].isna().sum()"
   ]
  },
  {
   "cell_type": "markdown",
   "id": "13767a23",
   "metadata": {},
   "source": [
    "Удалим из полученного датафрейма неиспользуемые для последующего анализа или дублирующиеся столбцы:"
   ]
  },
  {
   "cell_type": "code",
   "execution_count": 32,
   "id": "3faa3b7a",
   "metadata": {
    "scrolled": true
   },
   "outputs": [
    {
     "data": {
      "text/html": [
       "<div>\n",
       "<style scoped>\n",
       "    .dataframe tbody tr th:only-of-type {\n",
       "        vertical-align: middle;\n",
       "    }\n",
       "\n",
       "    .dataframe tbody tr th {\n",
       "        vertical-align: top;\n",
       "    }\n",
       "\n",
       "    .dataframe thead th {\n",
       "        text-align: right;\n",
       "    }\n",
       "</style>\n",
       "<table border=\"1\" class=\"dataframe\">\n",
       "  <thead>\n",
       "    <tr style=\"text-align: right;\">\n",
       "      <th></th>\n",
       "      <th>user_id</th>\n",
       "      <th>month</th>\n",
       "      <th>spent_minutes</th>\n",
       "      <th>calls_amount</th>\n",
       "      <th>messages_amount</th>\n",
       "      <th>spent_traffic</th>\n",
       "      <th>city</th>\n",
       "      <th>tariff</th>\n",
       "      <th>messages_included</th>\n",
       "      <th>mb_per_month_included</th>\n",
       "      <th>minutes_included</th>\n",
       "      <th>rub_monthly_fee</th>\n",
       "      <th>rub_per_gb</th>\n",
       "      <th>rub_per_message</th>\n",
       "      <th>rub_per_minute</th>\n",
       "    </tr>\n",
       "  </thead>\n",
       "  <tbody>\n",
       "    <tr>\n",
       "      <td>0</td>\n",
       "      <td>1000</td>\n",
       "      <td>5.0</td>\n",
       "      <td>159.0</td>\n",
       "      <td>22.0</td>\n",
       "      <td>22.0</td>\n",
       "      <td>2253.49</td>\n",
       "      <td>Краснодар</td>\n",
       "      <td>ultra</td>\n",
       "      <td>1000</td>\n",
       "      <td>30720</td>\n",
       "      <td>3000</td>\n",
       "      <td>1950</td>\n",
       "      <td>150</td>\n",
       "      <td>1</td>\n",
       "      <td>1</td>\n",
       "    </tr>\n",
       "    <tr>\n",
       "      <td>1</td>\n",
       "      <td>1000</td>\n",
       "      <td>6.0</td>\n",
       "      <td>172.0</td>\n",
       "      <td>43.0</td>\n",
       "      <td>60.0</td>\n",
       "      <td>23233.77</td>\n",
       "      <td>Краснодар</td>\n",
       "      <td>ultra</td>\n",
       "      <td>1000</td>\n",
       "      <td>30720</td>\n",
       "      <td>3000</td>\n",
       "      <td>1950</td>\n",
       "      <td>150</td>\n",
       "      <td>1</td>\n",
       "      <td>1</td>\n",
       "    </tr>\n",
       "    <tr>\n",
       "      <td>2</td>\n",
       "      <td>1000</td>\n",
       "      <td>7.0</td>\n",
       "      <td>340.0</td>\n",
       "      <td>47.0</td>\n",
       "      <td>75.0</td>\n",
       "      <td>14003.64</td>\n",
       "      <td>Краснодар</td>\n",
       "      <td>ultra</td>\n",
       "      <td>1000</td>\n",
       "      <td>30720</td>\n",
       "      <td>3000</td>\n",
       "      <td>1950</td>\n",
       "      <td>150</td>\n",
       "      <td>1</td>\n",
       "      <td>1</td>\n",
       "    </tr>\n",
       "    <tr>\n",
       "      <td>3</td>\n",
       "      <td>1000</td>\n",
       "      <td>8.0</td>\n",
       "      <td>408.0</td>\n",
       "      <td>52.0</td>\n",
       "      <td>81.0</td>\n",
       "      <td>14055.93</td>\n",
       "      <td>Краснодар</td>\n",
       "      <td>ultra</td>\n",
       "      <td>1000</td>\n",
       "      <td>30720</td>\n",
       "      <td>3000</td>\n",
       "      <td>1950</td>\n",
       "      <td>150</td>\n",
       "      <td>1</td>\n",
       "      <td>1</td>\n",
       "    </tr>\n",
       "    <tr>\n",
       "      <td>4</td>\n",
       "      <td>1000</td>\n",
       "      <td>9.0</td>\n",
       "      <td>466.0</td>\n",
       "      <td>58.0</td>\n",
       "      <td>57.0</td>\n",
       "      <td>14568.91</td>\n",
       "      <td>Краснодар</td>\n",
       "      <td>ultra</td>\n",
       "      <td>1000</td>\n",
       "      <td>30720</td>\n",
       "      <td>3000</td>\n",
       "      <td>1950</td>\n",
       "      <td>150</td>\n",
       "      <td>1</td>\n",
       "      <td>1</td>\n",
       "    </tr>\n",
       "  </tbody>\n",
       "</table>\n",
       "</div>"
      ],
      "text/plain": [
       "   user_id  month  spent_minutes  calls_amount  messages_amount  \\\n",
       "0     1000    5.0          159.0          22.0             22.0   \n",
       "1     1000    6.0          172.0          43.0             60.0   \n",
       "2     1000    7.0          340.0          47.0             75.0   \n",
       "3     1000    8.0          408.0          52.0             81.0   \n",
       "4     1000    9.0          466.0          58.0             57.0   \n",
       "\n",
       "   spent_traffic       city tariff  messages_included  mb_per_month_included  \\\n",
       "0        2253.49  Краснодар  ultra               1000                  30720   \n",
       "1       23233.77  Краснодар  ultra               1000                  30720   \n",
       "2       14003.64  Краснодар  ultra               1000                  30720   \n",
       "3       14055.93  Краснодар  ultra               1000                  30720   \n",
       "4       14568.91  Краснодар  ultra               1000                  30720   \n",
       "\n",
       "   minutes_included  rub_monthly_fee  rub_per_gb  rub_per_message  \\\n",
       "0              3000             1950         150                1   \n",
       "1              3000             1950         150                1   \n",
       "2              3000             1950         150                1   \n",
       "3              3000             1950         150                1   \n",
       "4              3000             1950         150                1   \n",
       "\n",
       "   rub_per_minute  \n",
       "0               1  \n",
       "1               1  \n",
       "2               1  \n",
       "3               1  \n",
       "4               1  "
      ]
     },
     "execution_count": 32,
     "metadata": {},
     "output_type": "execute_result"
    }
   ],
   "source": [
    "# удаление из таблицы 'total_users_info' методом drop() столбцов  \n",
    "# 'age', 'first_name', 'last_name', 'churn_date', 'reg_date' и 'tariff_name'\n",
    "total_users_info = total_users_info.drop(['age', 'first_name', 'last_name', 'churn_date',\\\n",
    "                                          'reg_date', 'tariff_name'], axis=1)\n",
    "\n",
    "# проверка - получение первых 5 записей методом head()\n",
    "total_users_info.head()"
   ]
  },
  {
   "cell_type": "markdown",
   "id": "768344af",
   "metadata": {},
   "source": [
    "Также перед проведением расчета выручки необходимо помнить о том, что для веб-трафика отдельные сессии не считаются. Вместо этого общая сумма за месяц округляется в бо́льшую сторону. Например, если абонент использует 1025 мегабайтов в этом месяце, с него возьмут плату за 2 гигабайта.\n",
    "\n",
    "Учитывая данный факт, переведем из мегабайт в гигабайты делением на `1024` значения столбца `spent_traffic` с последующим округлением вверх:"
   ]
  },
  {
   "cell_type": "code",
   "execution_count": 33,
   "id": "fa7adb70",
   "metadata": {},
   "outputs": [
    {
     "data": {
      "text/plain": [
       "1478    14\n",
       "1291    19\n",
       "1024    17\n",
       "1353     8\n",
       "259      7\n",
       "Name: spent_traffic, dtype: int64"
      ]
     },
     "execution_count": 33,
     "metadata": {},
     "output_type": "execute_result"
    }
   ],
   "source": [
    "# округление вверх с помощью метода ceil() переведенных в гигабайты\n",
    "# делением на 1024 значений столбца 'total_traffic' и приведение к \n",
    "# целочисленному типу методом astype()\n",
    "total_users_info.spent_traffic = np.ceil(total_users_info.spent_traffic/1024).astype(int)\n",
    "\n",
    "# проверка - получение 5 образцов записей\n",
    "# столбца 'spent_traffic' методом sample() \n",
    "total_users_info.spent_traffic.sample(5)"
   ]
  },
  {
   "cell_type": "markdown",
   "id": "0237c6ec",
   "metadata": {},
   "source": [
    "Для удобства расчетов переведем в гигабайты и логически переименуем столбец `mb_per_month_included`:"
   ]
  },
  {
   "cell_type": "code",
   "execution_count": 34,
   "id": "b31512ce",
   "metadata": {},
   "outputs": [
    {
     "data": {
      "text/plain": [
       "1602    15\n",
       "813     15\n",
       "830     15\n",
       "312     30\n",
       "58      15\n",
       "Name: traffic_included, dtype: int64"
      ]
     },
     "execution_count": 34,
     "metadata": {},
     "output_type": "execute_result"
    }
   ],
   "source": [
    "# перевод в гигабайты делением на 1024 значений столбца 'mb_per_month_included'\n",
    "total_users_info.mb_per_month_included = (total_users_info.mb_per_month_included/1024).astype(int)\n",
    "\n",
    "# переименование столбца 'mb_per_month_included' в 'traffic_included' методом rename()\n",
    "total_users_info.rename({'mb_per_month_included': 'traffic_included'}, axis=1, inplace=True)\n",
    "\n",
    "# проверка - получение 5 образцов записей\n",
    "# столбца 'traffic_included' методом sample() \n",
    "total_users_info.traffic_included.sample(5)"
   ]
  },
  {
   "cell_type": "markdown",
   "id": "0242740b",
   "metadata": {},
   "source": [
    "Теперь перейдем непосредственно к расчету помесячной выручки с каждого пользователя: \n",
    "1. Вычтем бесплатный лимит из суммарного количества звонков, сообщений и интернет-трафика\n",
    "2. Остаток умножим на значение из тарифного плана\n",
    "3. Прибавим абонентскую плату, соответствующую тарифному плану"
   ]
  },
  {
   "cell_type": "code",
   "execution_count": 35,
   "id": "a2ffe84d",
   "metadata": {},
   "outputs": [
    {
     "data": {
      "text/plain": [
       "260     5709.0\n",
       "1316    1950.0\n",
       "310     1950.0\n",
       "1609    1950.0\n",
       "3144     953.0\n",
       "Name: total_proceeds, dtype: float64"
      ]
     },
     "execution_count": 35,
     "metadata": {},
     "output_type": "execute_result"
    }
   ],
   "source": [
    "# расчет перерасхода минут, сообщений и трафика с заменой отрицательных значений на ноль \n",
    "minutes_overrun = (total_users_info.spent_minutes.fillna(0) - total_users_info.minutes_included).\\\n",
    "                        apply(lambda x: 0 if x < 0 else x)\n",
    "messages_overrun = (total_users_info.messages_amount.fillna(0) - total_users_info.messages_included).\\\n",
    "                        apply(lambda x: 0 if x < 0 else x)\n",
    "traffic_overrun = (total_users_info.spent_traffic.fillna(0) - total_users_info.traffic_included).\\\n",
    "                        apply(lambda x: 0 if x < 0 else x)\n",
    "    \n",
    "# расчет выручки с перерасходованных минут, сообщений и трафика\n",
    "proceeds_minutes = minutes_overrun * total_users_info.rub_per_minute\n",
    "proceeds_messages = messages_overrun * total_users_info.rub_per_message\n",
    "proceeds_traffic = traffic_overrun * total_users_info.rub_per_gb\n",
    "    \n",
    "# расчет суммарной выручки по абоненту с сохранением результата выполнения в столбец 'total_proceeds'\n",
    "total_users_info['total_proceeds'] = proceeds_minutes + proceeds_messages +\\\n",
    "                                     proceeds_traffic + total_users_info.rub_monthly_fee\n",
    "    \n",
    "# проверка - получение 5 образцов записей в столбце 'total_proceeds' методом sample()\n",
    "total_users_info.total_proceeds.sample(5)"
   ]
  },
  {
   "cell_type": "markdown",
   "id": "b8215032",
   "metadata": {},
   "source": [
    "Удалим из полученного датафрейма неиспользуемые для последующего анализа столбцы ранее присоединенной для расчета выручки таблицы `tariffs` и приведем столбцы `month`, `spent_minutes`, `calls_amount`, `messages_amount` и `total_proceeds` к целосичленному типу:"
   ]
  },
  {
   "cell_type": "code",
   "execution_count": 36,
   "id": "9101e2bb",
   "metadata": {
    "scrolled": true
   },
   "outputs": [],
   "source": [
    "# удаление из таблицы 'total_users_info' методом drop()\n",
    "# столбцов от 'messages_included' до 'rub_per_minute'\n",
    "total_users_info.drop(total_users_info.loc[:, 'messages_included': 'rub_per_minute'], axis=1, inplace=True)\n",
    "\n",
    "# приведение к целочисленному типу методом astype()\n",
    "total_users_info[['month', 'spent_minutes', 'calls_amount', 'messages_amount', 'total_proceeds']] =\\\n",
    "total_users_info[['month', 'spent_minutes', 'calls_amount', 'messages_amount', 'total_proceeds']].astype(int)"
   ]
  },
  {
   "cell_type": "markdown",
   "id": "c7fd43d6",
   "metadata": {},
   "source": [
    "Получим первые пять строк и информацию о таблице:"
   ]
  },
  {
   "cell_type": "code",
   "execution_count": 37,
   "id": "1e788bda",
   "metadata": {},
   "outputs": [
    {
     "data": {
      "text/html": [
       "<div>\n",
       "<style scoped>\n",
       "    .dataframe tbody tr th:only-of-type {\n",
       "        vertical-align: middle;\n",
       "    }\n",
       "\n",
       "    .dataframe tbody tr th {\n",
       "        vertical-align: top;\n",
       "    }\n",
       "\n",
       "    .dataframe thead th {\n",
       "        text-align: right;\n",
       "    }\n",
       "</style>\n",
       "<table border=\"1\" class=\"dataframe\">\n",
       "  <thead>\n",
       "    <tr style=\"text-align: right;\">\n",
       "      <th></th>\n",
       "      <th>user_id</th>\n",
       "      <th>month</th>\n",
       "      <th>spent_minutes</th>\n",
       "      <th>calls_amount</th>\n",
       "      <th>messages_amount</th>\n",
       "      <th>spent_traffic</th>\n",
       "      <th>city</th>\n",
       "      <th>tariff</th>\n",
       "      <th>total_proceeds</th>\n",
       "    </tr>\n",
       "  </thead>\n",
       "  <tbody>\n",
       "    <tr>\n",
       "      <td>0</td>\n",
       "      <td>1000</td>\n",
       "      <td>5</td>\n",
       "      <td>159</td>\n",
       "      <td>22</td>\n",
       "      <td>22</td>\n",
       "      <td>3</td>\n",
       "      <td>Краснодар</td>\n",
       "      <td>ultra</td>\n",
       "      <td>1950</td>\n",
       "    </tr>\n",
       "    <tr>\n",
       "      <td>1</td>\n",
       "      <td>1000</td>\n",
       "      <td>6</td>\n",
       "      <td>172</td>\n",
       "      <td>43</td>\n",
       "      <td>60</td>\n",
       "      <td>23</td>\n",
       "      <td>Краснодар</td>\n",
       "      <td>ultra</td>\n",
       "      <td>1950</td>\n",
       "    </tr>\n",
       "    <tr>\n",
       "      <td>2</td>\n",
       "      <td>1000</td>\n",
       "      <td>7</td>\n",
       "      <td>340</td>\n",
       "      <td>47</td>\n",
       "      <td>75</td>\n",
       "      <td>14</td>\n",
       "      <td>Краснодар</td>\n",
       "      <td>ultra</td>\n",
       "      <td>1950</td>\n",
       "    </tr>\n",
       "    <tr>\n",
       "      <td>3</td>\n",
       "      <td>1000</td>\n",
       "      <td>8</td>\n",
       "      <td>408</td>\n",
       "      <td>52</td>\n",
       "      <td>81</td>\n",
       "      <td>14</td>\n",
       "      <td>Краснодар</td>\n",
       "      <td>ultra</td>\n",
       "      <td>1950</td>\n",
       "    </tr>\n",
       "    <tr>\n",
       "      <td>4</td>\n",
       "      <td>1000</td>\n",
       "      <td>9</td>\n",
       "      <td>466</td>\n",
       "      <td>58</td>\n",
       "      <td>57</td>\n",
       "      <td>15</td>\n",
       "      <td>Краснодар</td>\n",
       "      <td>ultra</td>\n",
       "      <td>1950</td>\n",
       "    </tr>\n",
       "  </tbody>\n",
       "</table>\n",
       "</div>"
      ],
      "text/plain": [
       "   user_id  month  spent_minutes  calls_amount  messages_amount  \\\n",
       "0     1000      5            159            22               22   \n",
       "1     1000      6            172            43               60   \n",
       "2     1000      7            340            47               75   \n",
       "3     1000      8            408            52               81   \n",
       "4     1000      9            466            58               57   \n",
       "\n",
       "   spent_traffic       city tariff  total_proceeds  \n",
       "0              3  Краснодар  ultra            1950  \n",
       "1             23  Краснодар  ultra            1950  \n",
       "2             14  Краснодар  ultra            1950  \n",
       "3             14  Краснодар  ultra            1950  \n",
       "4             15  Краснодар  ultra            1950  "
      ]
     },
     "metadata": {},
     "output_type": "display_data"
    },
    {
     "name": "stdout",
     "output_type": "stream",
     "text": [
      "<class 'pandas.core.frame.DataFrame'>\n",
      "Int64Index: 3216 entries, 0 to 3215\n",
      "Data columns (total 9 columns):\n",
      "user_id            3216 non-null int64\n",
      "month              3216 non-null int64\n",
      "spent_minutes      3216 non-null int64\n",
      "calls_amount       3216 non-null int64\n",
      "messages_amount    3216 non-null int64\n",
      "spent_traffic      3216 non-null int64\n",
      "city               3216 non-null object\n",
      "tariff             3216 non-null object\n",
      "total_proceeds     3216 non-null int64\n",
      "dtypes: int64(7), object(2)\n",
      "memory usage: 251.2+ KB\n"
     ]
    },
    {
     "data": {
      "text/plain": [
       "(None, None)"
      ]
     },
     "execution_count": 37,
     "metadata": {},
     "output_type": "execute_result"
    }
   ],
   "source": [
    "# вызов функции df_info_head()\n",
    "# с аргументом 'total_users_info'\n",
    "df_info_head(total_users_info)"
   ]
  },
  {
   "cell_type": "markdown",
   "id": "df1aedc8",
   "metadata": {},
   "source": [
    "### Вывод\n",
    "\n",
    "---\n",
    "\n",
    "В ходе второго этапа исследования рассчитаны и объединены в таблицу с логической обработкой нулевых значений такие важные для последующего анализа показатели как:\n",
    "* `spent_minutes` - израсходованные за месяц минуты\n",
    "* `calls_amount` - количество звонков в месяц\n",
    "* `messages_amount` - количество сообщений в месяц\n",
    "* `spent_traffic` - сумма потраченного за месяц трафика\n",
    "* `total_proceeds` - помесячная выручка с каждого пользователя\n",
    "\n",
    "Данные столбцы наряду с id абонента `user_id`, расчетным месяцем `month`, городом абонента `city` и названием тарифного плана `tariff` были объединены в таблицу **`total_users_info`**, с которой и будем работать в дальнейшем.\n",
    "\n",
    "---\n"
   ]
  },
  {
   "cell_type": "markdown",
   "id": "865654f3",
   "metadata": {},
   "source": [
    "## Анализ показателей - описание поведения клиентов\n",
    "\n",
    "---"
   ]
  },
  {
   "cell_type": "markdown",
   "id": "6ff2eb79",
   "metadata": {},
   "source": [
    "В данном разделе предстоит ответить на вопрос: *«Сколько минут разговора, сообщений и какой объём интернет-трафика требуется пользователям каждого тарифа в месяц?»*\n",
    "\n",
    "С целью получения статистически значимого ответа на данный вопрос посчитаем среднее, дисперсию и стандартное отклонение по столбцам `spent_minutes`, `messages_amount` и `spent_traffic` для каждого тарифа.\n",
    "\n",
    "***Среднее значение*** = $\\bf \\overline{x}$ для выборки вычисляется как частное суммы всех значений $x_{i}$ и общего числа записей ${n}$:\n",
    "\n",
    "$$\\overline{x}=\\frac{\\sum_i^nx_{i}}{n}$$\n",
    "\n",
    "Среднее арифметическое - самая элементарная оценка центрального положения и для упрочения выводов воспользуемся оценками вариабельности. \n",
    "\n",
    "Первая из них - ***дисперсия*** = $\\bf s^{2}$ - сумма возведенных в квадрат (для нивелирования знаков) отклонений от среднего, деленная на $n-1$ где $n$ - число значений данных, укажет нам наиболее типичное отклонение от среднего арифметического:\n",
    "\n",
    "$$s^{2}=\\frac{\\sum(x-\\overline{x})^2}{n-1}$$\n",
    "\n",
    "Вторая оценка вариабельности - ***стандартное отклонение*** = $\\bf s$ - квадратный корень из дисперсии - приводит в размерность расчетных значений:\n",
    "\n",
    "$$s=\\sqrt{s^{2}}$$\n",
    "\n",
    "<br/> <br/>\n",
    "Рассчитаем данные оценки по интересующим столбцам с помощью сводной таблицы и методов `mean` для среднего, `np.var` для дисперсии и `np.std` для стандартного отклонения:"
   ]
  },
  {
   "cell_type": "code",
   "execution_count": 38,
   "id": "dd9b75cf",
   "metadata": {},
   "outputs": [
    {
     "data": {
      "text/html": [
       "<div>\n",
       "<style scoped>\n",
       "    .dataframe tbody tr th:only-of-type {\n",
       "        vertical-align: middle;\n",
       "    }\n",
       "\n",
       "    .dataframe tbody tr th {\n",
       "        vertical-align: top;\n",
       "    }\n",
       "\n",
       "    .dataframe thead tr th {\n",
       "        text-align: left;\n",
       "    }\n",
       "\n",
       "    .dataframe thead tr:last-of-type th {\n",
       "        text-align: right;\n",
       "    }\n",
       "</style>\n",
       "<table border=\"1\" class=\"dataframe\">\n",
       "  <thead>\n",
       "    <tr>\n",
       "      <th></th>\n",
       "      <th colspan=\"3\" halign=\"left\">mean</th>\n",
       "      <th colspan=\"3\" halign=\"left\">var</th>\n",
       "      <th colspan=\"3\" halign=\"left\">std</th>\n",
       "    </tr>\n",
       "    <tr>\n",
       "      <th></th>\n",
       "      <th>messages_amount</th>\n",
       "      <th>spent_minutes</th>\n",
       "      <th>spent_traffic</th>\n",
       "      <th>messages_amount</th>\n",
       "      <th>spent_minutes</th>\n",
       "      <th>spent_traffic</th>\n",
       "      <th>messages_amount</th>\n",
       "      <th>spent_minutes</th>\n",
       "      <th>spent_traffic</th>\n",
       "    </tr>\n",
       "    <tr>\n",
       "      <th>tariff</th>\n",
       "      <th></th>\n",
       "      <th></th>\n",
       "      <th></th>\n",
       "      <th></th>\n",
       "      <th></th>\n",
       "      <th></th>\n",
       "      <th></th>\n",
       "      <th></th>\n",
       "      <th></th>\n",
       "    </tr>\n",
       "  </thead>\n",
       "  <tbody>\n",
       "    <tr>\n",
       "      <td>smart</td>\n",
       "      <td>33.369058</td>\n",
       "      <td>417.747534</td>\n",
       "      <td>16.321525</td>\n",
       "      <td>796.955256</td>\n",
       "      <td>36281.393836</td>\n",
       "      <td>33.133453</td>\n",
       "      <td>28.230396</td>\n",
       "      <td>190.476754</td>\n",
       "      <td>5.756167</td>\n",
       "    </tr>\n",
       "    <tr>\n",
       "      <td>ultra</td>\n",
       "      <td>49.313387</td>\n",
       "      <td>526.089249</td>\n",
       "      <td>19.474645</td>\n",
       "      <td>2285.417425</td>\n",
       "      <td>101052.493549</td>\n",
       "      <td>97.378544</td>\n",
       "      <td>47.806040</td>\n",
       "      <td>317.887549</td>\n",
       "      <td>9.868057</td>\n",
       "    </tr>\n",
       "  </tbody>\n",
       "</table>\n",
       "</div>"
      ],
      "text/plain": [
       "                  mean                                         var  \\\n",
       "       messages_amount spent_minutes spent_traffic messages_amount   \n",
       "tariff                                                               \n",
       "smart        33.369058    417.747534     16.321525      796.955256   \n",
       "ultra        49.313387    526.089249     19.474645     2285.417425   \n",
       "\n",
       "                                                std                \\\n",
       "        spent_minutes spent_traffic messages_amount spent_minutes   \n",
       "tariff                                                              \n",
       "smart    36281.393836     33.133453       28.230396    190.476754   \n",
       "ultra   101052.493549     97.378544       47.806040    317.887549   \n",
       "\n",
       "                      \n",
       "       spent_traffic  \n",
       "tariff                \n",
       "smart       5.756167  \n",
       "ultra       9.868057  "
      ]
     },
     "execution_count": 38,
     "metadata": {},
     "output_type": "execute_result"
    }
   ],
   "source": [
    "# объединение с помощью сводной таблицы информации о тарифах и расчет среднего, \n",
    "# дисперсии и стандартного отклонения по столбцам 'spent_minutes','messages_amount'\n",
    "# и 'spent_traffic' методами 'mean', np.var, np.std\n",
    "total_users_info.pivot_table(index='tariff', values=['spent_minutes','messages_amount','spent_traffic'],\\\n",
    "                             aggfunc = ['mean', np.var, np.std])"
   ]
  },
  {
   "cell_type": "markdown",
   "id": "5e61974d",
   "metadata": {},
   "source": [
    "На основе полученных значений можно сделать выводы:\n",
    "1. Ощутима разница в количестве использованных минут по тарифам: среднее по тарифу «Смарт» ниже, чем по «Ультра», разброс значений также меньше у «Смарт», что говорит о большем сосредоточении вокруг среднего и более усредненному использованию минут ежемесячно\n",
    "2. Среднее количество сообщений по обоим тарифам невелико, но несколько больше (как и разброс значений) у «Ультра» -  абоненты менее равномерно тратят сообщения из пакета по тарифу\n",
    "3. Малое отклонение от среднего по объему трафика означает практически одинаковое ежемесячное его расходование\n",
    "\n",
    "<br/> Перейдем к визуальному анализу. <br/>  Для начала сохраним в переменных `smart` и `ultra` полную информацию о пользователях по каждому тарифу, то есть срезы таблицы `total_users_info` по условиям `'tariff' == 'smart'` и `'tariff' == 'ultra'`:"
   ]
  },
  {
   "cell_type": "code",
   "execution_count": 39,
   "id": "f5696b51",
   "metadata": {},
   "outputs": [],
   "source": [
    "# разделение пользователей по тарифам с сохранением в соответствующих переменных\n",
    "smart = total_users_info[total_users_info['tariff'] == 'smart']\n",
    "ultra = total_users_info[total_users_info['tariff'] == 'ultra']"
   ]
  },
  {
   "cell_type": "markdown",
   "id": "bc59fc4a",
   "metadata": {},
   "source": [
    "С целью автоматизации процесса построения графиков создадим функцию `plot_hist_kde`:"
   ]
  },
  {
   "cell_type": "code",
   "execution_count": 40,
   "id": "cfc0a2ab",
   "metadata": {},
   "outputs": [],
   "source": [
    "# создание функции plot_hist_kde() с аргументами (data, color, ax)\n",
    "def plot_hist_kde(data, bins, color, ax):\n",
    "    '''\n",
    "    Возвращает гистограмму и график плотности\n",
    "    значений столбца data с параметрами:\n",
    "    - количество корзин: bins=bins\n",
    "    - цвет: color=color\n",
    "    - расположение: ax[i, j] (для использования subplots)\n",
    "    '''\n",
    "    # построение гистограммы и графика плотности методом distplot() с \n",
    "    # количеством корзин bins=50 цвета color=color, толщиной линии \n",
    "    # linewidth=1.5 и расположением ax[i, j]\n",
    "    sns.distplot(data, bins=bins, color=color, kde_kws=dict(linewidth=1.5), ax=ax)\n",
    "    \n",
    "    # активация второстепенных делений осей\n",
    "    ax.minorticks_on()\n",
    "    \n",
    "    # отображение основной сетки grid() 'major' и определение внешнего вида линий\n",
    "    ax.grid(which='major', color = 'k', linewidth = 0.2)\n",
    "    \n",
    "    # отображение второстепенной сетки grid() 'minor' определение внешнего вида линий\n",
    "    ax.grid(which='minor', color = 'k', linewidth = 0.3, linestyle = ':')"
   ]
  },
  {
   "cell_type": "markdown",
   "id": "3628cc36",
   "metadata": {},
   "source": [
    "Далее создадим словарь `analysis_columns`, где ключи - названия столбцов, по которым будет проводиться визуальный анализ, значения - номера графиков для построения с помощью `plt.subplots()`:"
   ]
  },
  {
   "cell_type": "code",
   "execution_count": 41,
   "id": "8d69031d",
   "metadata": {},
   "outputs": [],
   "source": [
    "# создание словаря 'analysis_columns' с ключами - столбцами \n",
    "# для вычисления оценок и значениями - номерами графиков\n",
    "analysis_columns = {'spent_minutes': 0, 'messages_amount': 1, 'spent_traffic': 2}"
   ]
  },
  {
   "cell_type": "markdown",
   "id": "f5e39b4f",
   "metadata": {},
   "source": [
    "Построим гистограммы и графики плотности распределения по интересующим столбцам:"
   ]
  },
  {
   "cell_type": "code",
   "execution_count": 42,
   "id": "fc273d11",
   "metadata": {},
   "outputs": [
    {
     "data": {
      "image/png": "[encoded data removed]",
      "text/plain": [
       "<Figure size 1152x1152 with 6 Axes>"
      ]
     },
     "metadata": {
      "needs_background": "light"
     },
     "output_type": "display_data"
    }
   ],
   "source": [
    "# установление отображения шести графиков: nrows=3, ncols=2 и размера поля figsize=(16, 16)\n",
    "fig, ax = plt.subplots(nrows=3, ncols=2, figsize=(16, 16))\n",
    "\n",
    "# отображение основной надписи фигуры\n",
    "fig.suptitle('Гистограмма и график плотности значений тарифов «Смарт» (слева/зеленый) и «Ультра» (справа/желтый)',\\\n",
    "             fontsize=15)\n",
    "\n",
    "# построение вызовом функции plot_hist_kde() в цикле по словарю \n",
    "# 'analysis_columns' гистограмм и графиков плотности распределения \n",
    "# по таблицам 'smart' и 'ultra' с количеством корзин bins=50, \n",
    "# цветов 'seagreen' и 'goldenrod' с расположением ax, равным \n",
    "# значению словаря 'analysis_columns'\n",
    "for i in analysis_columns:\n",
    "    plot_hist_kde(smart[i], 50, 'seagreen', ax[analysis_columns[i], 0])\n",
    "    plot_hist_kde(ultra[i], 50, 'goldenrod', ax[analysis_columns[i], 1])"
   ]
  },
  {
   "cell_type": "markdown",
   "id": "8aba00b7",
   "metadata": {},
   "source": [
    "Графики количества минут несколько скошены вправо - более явно по тарифу «Ультра» с достаточно большим количеством нулевых звонков. Наблюдаются высокие пики на нулевых значениях количества сообщений - прослеживается тенденция к отказу от данного вида связи. Графики по значениям объема трафика явно походят на нормальное распределение - это указывает на вероятную усредненность в пользовании интернетом среди абонентов тарифа."
   ]
  },
  {
   "cell_type": "markdown",
   "id": "2603faa9",
   "metadata": {},
   "source": [
    "### Вывод\n",
    "\n",
    "---\n",
    "В данном разделе стоял вопрос *«Сколько минут разговора, сообщений и какой объём интернет-трафика требуется пользователям каждого тарифа в месяц?»*. Для этого был произведен расчет статистических оценок количества звонков, сообщений и объема интернет-трафика, а также визуализация значений на гистограммах и графиках плотности распределений. Выводы по итогу:\n",
    "1. ***Количество минут*** <br/> В среднем **пользователю тарифа «Смарт» требуется 418 минут разговора в месяц** со стандартным отклонением в 191 минуту и включенные в пакет звонков 500 минут. <br/> Визуализация и рассчитанные оценки показывают близкое к нормальному, но все же скошенное вправо распределение количества минут по абонентам тарифа «Смарт» - значения достаточно центрированы вокруг среднего и нет необходимости коректировать лимит звонков даже с учетом длинного хвоста распределения до 1500 минут - данные абоненты принесут дополнительную выручку сверх оплаченного пакета услуг связи. <br/> <br/> **По тарифу «Ультра» расход минут составляет 527 минут в месяц** - лимит по тарифу в 3000 минут при стандатном отклонении от среднего в 318 минут полностью покрывает данные нужды и является необоснованно большим. <br/> Также у абонентов «Ультра» прослеживается частичный отказ от разговоров по телефону (нулевые значения продолжительности), что приводит к выводу о необходимости снижения количества минут, входящих в пакет по тарифу - судя по длинному хвосту распределения, изображенному на графике, до 2000 минут в месяц.\n",
    "\n",
    "\n",
    "2. ***Количество сообщений*** <br/> **На одного абонента тарифа «Смарт» необходимо 34 сообщения** со стандартным отклонением в 29 - лимит тарифа в 50 сообщений неполностью покрывает данные нужды. <br/> Распределение Пуассона на визуализации говорит о смещении плотности значений в меньшую сторону с явным пиком около нуля. Это свидетельствует о частичном отказе от данного вида связи. <br/> <br/> **Пользователю тарифа «Ультра» требуется 50 сообщений** при стандартном отклонении в 48. Включенные в пакет 1000 сообщений, число которых является сверхизбыточным, следует уменьшить до 250. <br/> Исходя из аналогичного предыдущему тарифу графика распределения и гистограммы, приходим к выводу, что абоненты тарифа «Ультра» также отдают предпочтение иным видам связи.\n",
    "\n",
    "\n",
    "3. ***Объем интернет-трафика*** <br/> **Расход интернет-трафика абонента тарифа «Смарт» составляет в среднем 17 гигабайт** при стандартном отклонении, равном 6 и включенных в тариф 15 гигабайтах, что дает возможность получить с клиентов данного тарифа дополнительную выручку. <br/> <br/> **Пользователю тарифа «Ультра» требуется 20 гигабайт** со стандартным отклонением в 10. Лимит в 30 гигабайт вполне возможно оставить прежним - примерно 15% клиентов находятся за данным значением расхода интернет-трафика и приносят дополнительную выручку. <br/> <br/> В целом, графики распределения по обоим тарифам схожи и стремятся к нормальному распределению, что указывает на вероятную усредненность в пользовании интернетом среди абонентов тарифа. \n",
    "\n",
    "---"
   ]
  },
  {
   "cell_type": "markdown",
   "id": "287bc42d",
   "metadata": {},
   "source": [
    "## Проверка гипотез иследования\n",
    "\n",
    "---"
   ]
  },
  {
   "cell_type": "markdown",
   "id": "1b37390f",
   "metadata": {},
   "source": [
    "В данном разделе предстоит проверить две гипотезы:\n",
    "1. Средняя выручка пользователей тарифов «Ультра» и «Смарт» различаются\n",
    "2. Средняя выручка пользователей из Москвы отличается от выручки пользователей из других регионов\n",
    "\n",
    "Пункты однотипны и сводятся к **статистической гипотезе о равенстве среднего двух генеральных совокупностей**. Опишем общий алгоритм проверки данной гипотезы:\n",
    "\n",
    "1. Формулируется *нулевая гипотеза* $\\bf H_{0}$: <br/> $$H_{0}: \\overline{X_{1}} = \\overline{X_{2}}$$ <br/> о том, что среднее значение выборки ${X_{1}}$ *равно* среднему значению выборки ${X_{2}}$ (нулевая гипотеза всегда формируется с использованием знака равенства) <br/> <br/>\n",
    "\n",
    "2. Формулируется *альтернативная гипотеза* $\\bf H_{1}$: <br/> $$H_{1}: \\overline{X_{1}} \\neq \\overline{X_{2}}$$ <br/> о том, что среднее значение выборки ${X_{1}}$ *не равно* среднему значению выборки ${X_{2}}$ <br/> <br/>\n",
    "\n",
    "3. Объем выборок в нашем случае велик (больше 30), поэтому они считаются нормально распределенными и используется следующий *статистический критерий* - математическое правило, по которому принимаются или отвергаются гипотезы $\\bf H_{0}$ и $\\bf H_{1}$: <br/> <br/> $$t = \\frac{{\\overline{X_{1}}-\\overline{X_{2}}}}{\\sqrt{{\\frac{s_1^2}{n_{1}}}-{\\frac{s_2^2}{n_{2}}}}},$$ где ${{\\overline{X_{1}}-\\overline{X_{2}}}}$ - разница выборочных средних <br/> ${s_1^2}$ и ${s_2^2}$ - выборочные дисперсии <br/> ${n_{1}}$ и ${n_{2}}$ - объемы выборок <br/> <br/> В данном случае используется **t-критерий Стьюдента**, одним из условий которого является равенство дисперсий выборок <br/> <br/> Задача сравнения средних двух нормально распределённых выборок при неизвестных и неравных дисперсиях известна как *проблема Беренса-Фишера*. Точного решения этой задачи до настоящего времени нет, но на практике используются различные приближения, в том числе и модифицированный t-критерий - **проверка Уэлча**: <br/><br/> $$t = \\frac{\\sqrt{n_{1}n_{2}}(\\overline{X_{1}}-\\overline{X_{2}})}{\\sqrt{n_{1}s_1^2+n_{2}s_2^2}},$$ где ${{\\overline{X_{1}}-\\overline{X_{2}}}}$ - разница выборочных средних <br/> ${s_1^2}$ и ${s_2^2}$ - выборочные дисперсии <br/> ${n_{1}}$ и ${n_{2}}$ - объемы выборок <br/> <br/> \n",
    "\n",
    "4. Выбирается *критический уровень статистической значимости* ${\\alpha}$ - вероятность ошибочно отклонить верную на самом деле нулевую гипотезу (совершить *ошибку первого рода*). Чем меньше ${\\alpha}$-уровень, тем меньше риск совершения этой ошибки. В нашем случае исследование не требует предельной точности, поэтому примем ${\\alpha} = 0.05$ <br/> <br/>\n",
    "\n",
    "5. На основе t-критерия Стьюдента вычисляется *наблюдаемое (т.е. вычисленное по выборкам) значение критерия* $t_{observed}$ <br/> <br/>\n",
    "\n",
    "6. Определяется *критическая двусторонняя область* - область отвержения нулевой гипотезы, т.е. если $t_{observed}$ попадет в данную область, нулевая гипотеза отвергается: <br/> <br/> $$t_{critical} = t_{two-sided.critical} = (\\alpha; k),$$ <br/> где $k$ - суммарное количество степеней свободы по двум выборкам <br/> <br/> Критическая двусторонняя облать в случае *проверки Уэлча*: <br/> <br/> $$t_{critical} = F(\\frac{1-\\alpha}{2}),$$ <br/> где $F(x)$ - *функция Лапласа*, тогда при ${\\alpha} = 0.05$ критическое значение с которым сравнивается наблюдаемое: <br/> <br/> $$t_{critical} = F(\\frac{1-\\alpha}{2}) = 1.96$$ <br/> <br/>\n",
    "\n",
    "7. Выносится вердикт: \n",
    "    * если $t_{observed}$ в критическую область не попадет, то нулевая гипотеза $\\bf H_{0}$ на уровне значимости ${\\alpha}$ **принимается**\n",
    "    * если $t_{observed}$ попадет в критическую область, то нулевая гипотеза $\\bf H_{0}$ **отвергается** на уровне значимости ${\\alpha}$"
   ]
  },
  {
   "cell_type": "markdown",
   "id": "8c214535",
   "metadata": {},
   "source": [
    "<br/> <br/> \n",
    "\n",
    "Для проверки гипотез будем использовать метод `scipy.stats.ttest_ind()`.\n",
    "\n",
    "Исходя из вышеизложенного, для начала необходимо найти дисперсии выборок из двух таблиц по столбцу `total_proceeds` и сравнить их: <br/> \n",
    "* если дисперсии равны, то параметр `equal_val` метода `st.ttest_ind()` устанавливается как `True` и выполняется стандартная независимая проверка двух выборок\n",
    "* в противном случае `equal_val` устанавливается как `False` и выполняется **проверка Уэлча** <br/> <br/>\n",
    "\n",
    "Создадим функцию `ttest_result`, которая рассчитает **p-value** - полученное в ходе статистического теста значение вероятности совершения ошибки I рода (ошибочного отклонения нулевой гипотезы, когда в действительности она верна) методом `st.ttest_ind()`, выведет ее значение с соответствующей подписью, сравнит p-value с принятым ранее как ${\\alpha} = 0.05$ уровнем значимости и выведет вердикт:"
   ]
  },
  {
   "cell_type": "code",
   "execution_count": 43,
   "id": "6ab6fca9",
   "metadata": {},
   "outputs": [],
   "source": [
    "def ttest_result(data_1, data_2, equal):\n",
    "    '''\n",
    "    Проводит на уровне значимости alpha=0.05 стандартную независимую \n",
    "    проверку двух выборок 'data_1' и 'data_2' по столбцу 'total_proceeds'  \n",
    "    с использованием t-критерия Стьюдента (при equal=True) или выполняет \n",
    "    проверку Уэлча (при equal=False) с выводом рассчитанных значений и вердикта\n",
    "    '''\n",
    "    # формирование условия вывода примененного теста\n",
    "    if equal==True:\n",
    "        print('Дисперсии выборок равны, использован t-критерий Стьюдента')\n",
    "    else:\n",
    "        print('Дисперсии выборок не равны, проведена проверка Уэлча')\n",
    "    print() \n",
    "    \n",
    "    # применение метода ttest_ind() к столбцу 'total_proceeds' таблиц \n",
    "    # 'data_1' и 'data_2' с параметром equal_val=equal_val \n",
    "    # и сохранением в переменной 'result'\n",
    "    result = st.ttest_ind(data_1['total_proceeds'],\\\n",
    "                          data_2['total_proceeds'],\\\n",
    "                          equal_var=equal)\n",
    "\n",
    "    # вывод p-значения\n",
    "    print('p-значение:', result.pvalue)\n",
    "\n",
    "    # сохранение в переменной 'alpha' критического \n",
    "    # уровеня статистической значимости\n",
    "    alpha = 0.05 \n",
    "    \n",
    "    # вывод вердикта\n",
    "    if result.pvalue < alpha:\n",
    "        print('Нулевая гипотеза на уровне значимости alpha=0.05 отвергается')\n",
    "    else:\n",
    "        print('Нулевая гипотеза на уровне значимости alpha=0.05 принимается') "
   ]
  },
  {
   "cell_type": "markdown",
   "id": "cc7cc48d",
   "metadata": {},
   "source": [
    "### Средняя выручка пользователей тарифов «Смарт» и «Ультра» различаются\n",
    "\n",
    "---"
   ]
  },
  {
   "cell_type": "markdown",
   "id": "7ed23428",
   "metadata": {},
   "source": [
    "Для проверки данной гипотезы понадобятся ранее извлеченные из таблицы `total_users_info` выборки по тарифам - таблицы `smart` и `ultra`. <br/> <br/>\n",
    "\n",
    "Сформулируем *нулевую гипотезу* о том, что среднее значение выручки абонентов тарифа «Смарт» **равно** среднему значению выручки абонентов тарифа «Ультра»: \n",
    "\n",
    "$\\bf H_{0}$: `smart['total_proceeds'].mean()` $=$ `ultra['total_proceeds'].mean()` <br/> <br/>\n",
    "\n",
    "*Альтернативная гипотеза* - среднее значение выручки абонентов тарифа «Смарт» **не равно** среднему значению выручки абонентов тарифа «Ультра»: \n",
    "\n",
    "$\\bf H_{1}$: `smart['total_proceeds'].mean()` $\\neq$ `ultra['total_proceeds'].mean()` <br/> <br/>\n",
    "\n",
    "Сравнив дисперсии обоих выборок определим используемый критерий - Стьюдента или Уэлча:"
   ]
  },
  {
   "cell_type": "code",
   "execution_count": 44,
   "id": "5a837052",
   "metadata": {},
   "outputs": [
    {
     "name": "stdout",
     "output_type": "stream",
     "text": [
      "Дисперсия выручки пользователей тарифа \"Смарт\": 669430.4361979931\n",
      "Дисперсия выручки пользователей тарифа \"Ультра\": 141244.31956107615\n"
     ]
    }
   ],
   "source": [
    "# вывод значения дисперсии по столбцу 'total_proceeds' \n",
    "# таблиц 'smart' и 'ultra' методом np.var()\n",
    "print('Дисперсия выручки пользователей тарифа \"Смарт\":', np.var(smart['total_proceeds']))\n",
    "print('Дисперсия выручки пользователей тарифа \"Ультра\":', np.var(ultra['total_proceeds']))"
   ]
  },
  {
   "cell_type": "markdown",
   "id": "61b602bf",
   "metadata": {},
   "source": [
    "Дисперсии не равны, проведем проверку Уэлча. Передадим в функцию `ttest_result()` таблицы `smart` и `ultra`, с параметром `equal=False`: "
   ]
  },
  {
   "cell_type": "code",
   "execution_count": 45,
   "id": "86875364",
   "metadata": {},
   "outputs": [
    {
     "name": "stdout",
     "output_type": "stream",
     "text": [
      "Дисперсии выборок не равны, проведена проверка Уэлча\n",
      "\n",
      "p-значение: 1.927011394420941e-250\n",
      "Нулевая гипотеза на уровне значимости alpha=0.05 отвергается\n"
     ]
    }
   ],
   "source": [
    "# вызов функции ttest_result() с аргументами \n",
    "# 'smart' и 'ultra' и параметром 'elual=False'\n",
    "ttest_result(smart, ultra, False)"
   ]
  },
  {
   "cell_type": "markdown",
   "id": "a03eae0d",
   "metadata": {},
   "source": [
    "Выведем средние значения выручки:"
   ]
  },
  {
   "cell_type": "code",
   "execution_count": 46,
   "id": "cc121db7",
   "metadata": {
    "scrolled": true
   },
   "outputs": [
    {
     "name": "stdout",
     "output_type": "stream",
     "text": [
      "Средняя выручка пользователей тарифа «Смарт»: 1289.6417040358745\n",
      "Средняя выручка пользователей тарифа «Ультра»: 2070.030425963489\n"
     ]
    }
   ],
   "source": [
    "# получение значения среднего по столбцу 'total_proceeds' \n",
    "# таблиц 'smart' и 'ultra' методом mean()\n",
    "print('Средняя выручка пользователей тарифа «Смарт»:', smart['total_proceeds'].mean()) \n",
    "print('Средняя выручка пользователей тарифа «Ультра»:', ultra['total_proceeds'].mean())"
   ]
  },
  {
   "cell_type": "markdown",
   "id": "173e0d7b",
   "metadata": {},
   "source": [
    "### Средняя выручка пользователей из Москвы отличается от выручки пользователей из других регионов\n",
    "\n",
    "---"
   ]
  },
  {
   "cell_type": "markdown",
   "id": "8c932b28",
   "metadata": {},
   "source": [
    "Подготовим данные для проверки гипотезы - сохраним в переменной `users_moscow` пользователей из Москвы, а в `users_region` - пользователей из других регионов:"
   ]
  },
  {
   "cell_type": "code",
   "execution_count": 47,
   "id": "67b238f9",
   "metadata": {},
   "outputs": [],
   "source": [
    "# разделение пользователей по местоположению с сохранением в соответствующих переменных\n",
    "users_moscow = total_users_info[total_users_info['city'] == 'Москва']\n",
    "users_region = total_users_info[total_users_info['city'] != 'Москва']"
   ]
  },
  {
   "cell_type": "markdown",
   "id": "89aff2e2",
   "metadata": {},
   "source": [
    "Сформулируем *нулевую гипотезу* о том, что среднее значение выручки абонентов из Москвы **равно** среднему значению выручки абонентов из других регионов:\n",
    "\n",
    "$\\bf H_{0}$: `users_moscow['total_proceeds'].mean()` $=$ `users_region['total_proceeds'].mean()` <br/> <br/>\n",
    "\n",
    "*Альтернативная гипотеза* - среднее значение выручки абонентов из Москвы **не равно** среднему значению выручки абонентов из других регионов:\n",
    "\n",
    "$\\bf H_{1}$: `users_moscow['total_proceeds'].mean()` $\\neq$ `users_region['total_proceeds'].mean()` <br/> <br/>\n",
    "\n",
    "Сравнив дисперсии обоих выборок определим используемый критерий - Стьюдента или Уэлча:"
   ]
  },
  {
   "cell_type": "code",
   "execution_count": 48,
   "id": "5eccd606",
   "metadata": {
    "scrolled": false
   },
   "outputs": [
    {
     "name": "stdout",
     "output_type": "stream",
     "text": [
      "Дисперсия выручки пользователей из Москвы: 564710.7117467273\n",
      "Дисперсия выручки пользователей из других регионов: 653818.4925923496\n"
     ]
    }
   ],
   "source": [
    "# вывод значения дисперсии по столбцу 'total_proceeds' таблиц \n",
    "# 'users_moscow' и 'users_region' методом np.var()\n",
    "print('Дисперсия выручки пользователей из Москвы:', np.var(users_moscow['total_proceeds']))\n",
    "print('Дисперсия выручки пользователей из других регионов:', np.var(users_region['total_proceeds']))"
   ]
  },
  {
   "cell_type": "markdown",
   "id": "a912f6a3",
   "metadata": {},
   "source": [
    "Дисперсии не равны, проведем проверку Уэлча. Передадим в функцию `ttest_result()` таблицы `users_moscow` и `users_region`, с параметром `equal=False`: "
   ]
  },
  {
   "cell_type": "code",
   "execution_count": 49,
   "id": "bfd917de",
   "metadata": {},
   "outputs": [
    {
     "name": "stdout",
     "output_type": "stream",
     "text": [
      "Дисперсии выборок не равны, проведена проверка Уэлча\n",
      "\n",
      "p-значение: 0.5216952110000279\n",
      "Нулевая гипотеза на уровне значимости alpha=0.05 принимается\n"
     ]
    }
   ],
   "source": [
    "# вызов функции ttest_result() с аргументами 'users_moscow' \n",
    "# и 'users_region' и параметром 'elual=False'\n",
    "ttest_result(users_moscow, users_region, False)"
   ]
  },
  {
   "cell_type": "markdown",
   "id": "c4942685",
   "metadata": {},
   "source": [
    "Выведем средние значения выручки:"
   ]
  },
  {
   "cell_type": "code",
   "execution_count": 50,
   "id": "b74336c3",
   "metadata": {},
   "outputs": [
    {
     "name": "stdout",
     "output_type": "stream",
     "text": [
      "Средняя выручка пользователей из Москвы: 1546.7135842880523\n",
      "Средняя выручка пользователей из других регионов: 1524.7251439539348\n"
     ]
    }
   ],
   "source": [
    "# получение значения среднего по столбцу 'total_proceeds' \n",
    "# таблиц 'users_moscow' и 'users_region' методом mean()\n",
    "print('Средняя выручка пользователей из Москвы:', users_moscow['total_proceeds'].mean()) \n",
    "print('Средняя выручка пользователей из других регионов:', users_region['total_proceeds'].mean())"
   ]
  },
  {
   "cell_type": "markdown",
   "id": "62df1509",
   "metadata": {},
   "source": [
    "### Вывод\n",
    "\n",
    "---\n",
    "\n",
    "В данном разделе стояла задача проверить гипотезы:\n",
    "1. Средняя выручка пользователей тарифов «Ультра» и «Смарт» различаются\n",
    "2. Средняя выручка пользователей из Москвы отличается от выручки пользователей из других регионов\n",
    "\n",
    "Для этого был проведен **t-тест с критерием Уэлча**, по результату выполнения которого была отвергнута гипотеза о равенстве средней выручки по тарифам и подтверждена гипотеза о равенстве средней выручки Москвы и регионов.\n",
    "\n",
    "**Средняя выручка по тарифу «Смарт» заметно ниже, чем по тарифу «Ультра»**, что, вероятно, связано с более высокой ежемесячной платой по тарифу «Ультра». В случае с тарифом «Смарт» положение не выравнивает даже потребление трафика и совершение звонков вне лимита по пакету, приносящие дополнительную выручку с пользователей.\n",
    "\n",
    "**По Москве и другим регионам выручка практически равна** - это говорит об однородности потребления услуг связи вне зависимости от местоположения и ключевой роли самого тарифа в формировании выручки пользователей.\n",
    "\n",
    "---"
   ]
  },
  {
   "cell_type": "markdown",
   "id": "8be00e92",
   "metadata": {},
   "source": [
    "## Общий вывод иследования\n",
    "\n",
    "---\n",
    "\n",
    "С целью корректировки рекламного бюджета, коммерческий департамент ставил задачу выяснить, какой тариф приносит больше денег. Задавался вопрос:\n",
    "* *«Сколько минут разговора, сообщений и какой объём интернет-трафика требуется пользователям каждого тарифа в месяц?»*\n",
    "\n",
    "Выдвигались гипотезы:\n",
    "* Средняя выручка пользователей тарифов «Ультра» и «Смарт» различаются\n",
    "* Средняя выручка пользователей из Москвы отличается от выручки пользователей из других регионов\n",
    "\n",
    "Для этого был проведен предварительный анализ тарифов на небольшой выборке клиентов. В нашем распоряжении имелась полная информацию об абонентах телекоммуникационной компании «Мегалайн»: персональные данные и id пользователей, названия и даты подключения тарифов, информацию о звонках, сообщениях и интернет-сессиях, а также условия пользования самими тарифами. \n",
    "\n",
    "В ходе *первого этапа* проведена первоначальная предобработка данных: значения приведены к корректным типам и удалены ошибки выгрузки.\n",
    "\n",
    "На *втором этапе* рассчитаны и объединены в таблицу с логической обработкой нулевых значений такие важные для последующего анализа показатели как:\n",
    "* `spent_minutes` - израсходованные за месяц минуты\n",
    "* `calls_amount` - количество звонков в месяц\n",
    "* `messages_amount` - количество сообщений в месяц\n",
    "* `spent_traffic` - сумма потраченного за месяц трафика\n",
    "* `total_proceeds` - помесячная выручка с каждого пользователя\n",
    "\n",
    "На *третьем этапе* исследования был произведен расчет статистических оценок количества звонков, сообщений и объема интернет-трафика, а также визуализация значений на гистограммах и графиках плотности распределений:\n",
    "1. ***Количество минут*** <br/> В среднем **пользователю тарифа «Смарт» требуется 418 минут разговора в месяц** со стандартным отклонением в 191 минуту и включенные в пакет звонков 500 минут. <br/> Визуализация и рассчитанные оценки показывают близкое к нормальному, но все же скошенное вправо распределение количества минут по абонентам тарифа «Смарт» - значения достаточно центрированы вокруг среднего и нет необходимости коректировать лимит звонков даже с учетом длинного хвоста распределения до 1500 минут - данные абоненты принесут дополнительную выручку сверх оплаченного пакета услуг связи. <br/> <br/> **По тарифу «Ультра» расход минут составляет 527 минут в месяц** - лимит по тарифу в 3000 минут при стандатном отклонении от среднего в 318 минут полностью покрывает данные нужды и является необоснованно большим. <br/> Также у абонентов «Ультра» прослеживается частичный отказ от разговоров по телефону (нулевые значения продолжительности), что приводит к выводу о необходимости снижения количества минут, входящих в пакет по тарифу - судя по длинному хвосту распределения, изображенному на графике, до 2000 минут в месяц.\n",
    "\n",
    "\n",
    "2. ***Количество сообщений*** <br/> **На одного абонента тарифа «Смарт» необходимо 34 сообщения** со стандартным отклонением в 29 - лимит тарифа в 50 сообщений неполностью покрывает данные нужды. <br/> Распределение Пуассона на визуализации говорит о смещении плотности значений в меньшую сторону с явным пиком около нуля. Это свидетельствует о частичном отказе от данного вида связи. <br/> <br/> **Пользователю тарифа «Ультра» требуется 50 сообщений** при стандартном отклонении в 48. Включенные в пакет 1000 сообщений, число которых является сверхизбыточным, следует уменьшить до 250. <br/> Исходя из аналогичного предыдущему тарифу графика распределения и гистограммы, приходим к выводу, что абоненты тарифа «Ультра» также отдают предпочтение иным видам связи.\n",
    "\n",
    "\n",
    "3. ***Объем интернет-трафика*** <br/> **Расход интернет-трафика абонента тарифа «Смарт» составляет в среднем 17 гигабайт** при стандартном отклонении, равном 6 и включенных в тариф 15 гигабайтах, что дает возможность получить с клиентов данного тарифа дополнительную выручку. <br/> <br/> **Пользователю тарифа «Ультра» требуется 20 гигабайт** со стандартным отклонением в 10. Лимит в 30 гигабайт вполне возможно оставить прежним - примерно 15% клиентов находятся за данным значением расхода интернет-трафика и приносят дополнительную выручку. <br/> <br/> В целом, графики распределения по обоим тарифам схожи и стремятся к нормальному распределению, что указывает на вероятную усредненность в пользовании интернетом среди абонентов тарифа. \n",
    "\n",
    "На *четвертом этапе* был проведен **t-тест с критерием Уэлча**, по результату выполнения которого была **отвергнута гипотеза о равенстве средней выручки по тарифам и подтверждена гипотеза о равенстве средней выручки Москвы и регионов**.\n",
    "\n",
    "**Средняя выручка по тарифу «Смарт» заметно ниже, чем по тарифу «Ультра»**, что, вероятно, связано с более высокой ежемесячной платой по тарифу «Ультра». В случае с тарифом «Смарт» положение не выравнивает даже потребление трафика и совершение звонков вне лимита по пакету, приносящие дополнительную выручку с пользователей.\n",
    "\n",
    "**По Москве и другим регионам выручка практически равна** - это говорит об однородности потребления услуг связи вне зависимости от местоположения и ключевой роли самого тарифа в формировании выручки пользователей.\n",
    "\n",
    "\n",
    "---"
   ]
  }
 ],
 "metadata": {
  "ExecuteTimeLog": [
   {
    "duration": 1194,
    "start_time": "2021-09-28T21:49:49.392Z"
   },
   {
    "duration": 416,
    "start_time": "2021-09-28T21:49:50.588Z"
   },
   {
    "duration": 17,
    "start_time": "2021-09-28T21:49:51.007Z"
   },
   {
    "duration": 22,
    "start_time": "2021-09-28T21:49:51.026Z"
   },
   {
    "duration": 12,
    "start_time": "2021-09-28T21:49:51.050Z"
   },
   {
    "duration": 21,
    "start_time": "2021-09-28T21:49:51.064Z"
   },
   {
    "duration": 10,
    "start_time": "2021-09-28T21:49:51.087Z"
   },
   {
    "duration": 17,
    "start_time": "2021-09-28T21:49:51.100Z"
   },
   {
    "duration": 10,
    "start_time": "2021-09-28T21:49:51.119Z"
   },
   {
    "duration": 13,
    "start_time": "2021-09-28T21:49:51.131Z"
   },
   {
    "duration": 35,
    "start_time": "2021-09-28T21:49:51.145Z"
   },
   {
    "duration": 12,
    "start_time": "2021-09-28T21:49:51.182Z"
   },
   {
    "duration": 6,
    "start_time": "2021-09-28T21:49:51.196Z"
   },
   {
    "duration": 9,
    "start_time": "2021-09-28T21:49:51.204Z"
   },
   {
    "duration": 16,
    "start_time": "2021-09-28T21:49:51.215Z"
   },
   {
    "duration": 54,
    "start_time": "2021-09-28T21:49:51.233Z"
   },
   {
    "duration": 20,
    "start_time": "2021-09-28T21:49:51.289Z"
   },
   {
    "duration": 11,
    "start_time": "2021-09-28T21:49:51.312Z"
   },
   {
    "duration": 57,
    "start_time": "2021-09-28T21:49:51.325Z"
   },
   {
    "duration": 22,
    "start_time": "2021-09-28T21:49:51.384Z"
   },
   {
    "duration": 8,
    "start_time": "2021-09-28T21:49:51.408Z"
   },
   {
    "duration": 11,
    "start_time": "2021-09-28T21:49:51.418Z"
   },
   {
    "duration": 6,
    "start_time": "2021-09-28T21:49:51.434Z"
   },
   {
    "duration": 104,
    "start_time": "2021-09-28T21:49:51.478Z"
   },
   {
    "duration": 56,
    "start_time": "2021-09-28T21:49:51.584Z"
   },
   {
    "duration": 6,
    "start_time": "2021-09-28T21:49:51.642Z"
   },
   {
    "duration": 51,
    "start_time": "2021-09-28T21:49:51.650Z"
   },
   {
    "duration": 5,
    "start_time": "2021-09-28T21:49:51.703Z"
   },
   {
    "duration": 34,
    "start_time": "2021-09-28T21:49:51.710Z"
   },
   {
    "duration": 6,
    "start_time": "2021-09-28T21:49:51.745Z"
   },
   {
    "duration": 58,
    "start_time": "2021-09-28T21:49:51.753Z"
   },
   {
    "duration": 14,
    "start_time": "2021-09-28T21:49:51.813Z"
   },
   {
    "duration": 11,
    "start_time": "2021-09-28T21:49:51.829Z"
   },
   {
    "duration": 22,
    "start_time": "2021-09-28T21:49:51.842Z"
   },
   {
    "duration": 12,
    "start_time": "2021-09-28T21:49:51.877Z"
   },
   {
    "duration": 10,
    "start_time": "2021-09-28T21:49:51.891Z"
   },
   {
    "duration": 39,
    "start_time": "2021-09-28T21:49:51.903Z"
   },
   {
    "duration": 41,
    "start_time": "2021-09-28T21:49:51.944Z"
   },
   {
    "duration": 18,
    "start_time": "2021-09-28T21:49:51.987Z"
   },
   {
    "duration": 7,
    "start_time": "2021-09-28T21:49:52.007Z"
   },
   {
    "duration": 13,
    "start_time": "2021-09-28T21:49:52.016Z"
   },
   {
    "duration": 19,
    "start_time": "2021-09-28T21:49:52.031Z"
   },
   {
    "duration": 23,
    "start_time": "2021-09-28T21:49:52.052Z"
   },
   {
    "duration": 4,
    "start_time": "2021-09-28T21:49:52.078Z"
   },
   {
    "duration": 2883,
    "start_time": "2021-09-28T21:49:52.084Z"
   },
   {
    "duration": 11,
    "start_time": "2021-09-28T21:49:54.969Z"
   },
   {
    "duration": 5,
    "start_time": "2021-09-28T21:49:54.983Z"
   },
   {
    "duration": 8,
    "start_time": "2021-09-28T21:49:54.991Z"
   },
   {
    "duration": 8,
    "start_time": "2021-09-28T21:49:55.001Z"
   },
   {
    "duration": 6,
    "start_time": "2021-09-28T21:49:55.011Z"
   },
   {
    "duration": 1114,
    "start_time": "2021-09-28T21:53:18.231Z"
   },
   {
    "duration": 408,
    "start_time": "2021-09-28T21:53:19.347Z"
   },
   {
    "duration": 16,
    "start_time": "2021-09-28T21:53:19.757Z"
   },
   {
    "duration": 22,
    "start_time": "2021-09-28T21:53:19.775Z"
   },
   {
    "duration": 12,
    "start_time": "2021-09-28T21:53:19.799Z"
   },
   {
    "duration": 18,
    "start_time": "2021-09-28T21:53:19.813Z"
   },
   {
    "duration": 10,
    "start_time": "2021-09-28T21:53:19.832Z"
   },
   {
    "duration": 43,
    "start_time": "2021-09-28T21:53:19.845Z"
   },
   {
    "duration": 7,
    "start_time": "2021-09-28T21:53:19.890Z"
   },
   {
    "duration": 7,
    "start_time": "2021-09-28T21:53:19.899Z"
   },
   {
    "duration": 11,
    "start_time": "2021-09-28T21:53:19.908Z"
   },
   {
    "duration": 7,
    "start_time": "2021-09-28T21:53:19.921Z"
   },
   {
    "duration": 4,
    "start_time": "2021-09-28T21:53:19.930Z"
   },
   {
    "duration": 9,
    "start_time": "2021-09-28T21:53:19.936Z"
   },
   {
    "duration": 40,
    "start_time": "2021-09-28T21:53:19.947Z"
   },
   {
    "duration": 32,
    "start_time": "2021-09-28T21:53:19.989Z"
   },
   {
    "duration": 18,
    "start_time": "2021-09-28T21:53:20.023Z"
   },
   {
    "duration": 37,
    "start_time": "2021-09-28T21:53:20.043Z"
   },
   {
    "duration": 23,
    "start_time": "2021-09-28T21:53:20.082Z"
   },
   {
    "duration": 19,
    "start_time": "2021-09-28T21:53:20.107Z"
   },
   {
    "duration": 7,
    "start_time": "2021-09-28T21:53:20.128Z"
   },
   {
    "duration": 45,
    "start_time": "2021-09-28T21:53:20.137Z"
   },
   {
    "duration": 5,
    "start_time": "2021-09-28T21:53:20.186Z"
   },
   {
    "duration": 106,
    "start_time": "2021-09-28T21:53:20.193Z"
   },
   {
    "duration": 56,
    "start_time": "2021-09-28T21:53:20.301Z"
   },
   {
    "duration": 17,
    "start_time": "2021-09-28T21:53:20.359Z"
   },
   {
    "duration": 35,
    "start_time": "2021-09-28T21:53:20.378Z"
   },
   {
    "duration": 7,
    "start_time": "2021-09-28T21:53:20.415Z"
   },
   {
    "duration": 63,
    "start_time": "2021-09-28T21:53:20.424Z"
   },
   {
    "duration": 7,
    "start_time": "2021-09-28T21:53:20.489Z"
   },
   {
    "duration": 41,
    "start_time": "2021-09-28T21:53:20.498Z"
   },
   {
    "duration": 37,
    "start_time": "2021-09-28T21:53:20.541Z"
   },
   {
    "duration": 9,
    "start_time": "2021-09-28T21:53:20.580Z"
   },
   {
    "duration": 13,
    "start_time": "2021-09-28T21:53:20.591Z"
   },
   {
    "duration": 12,
    "start_time": "2021-09-28T21:53:20.606Z"
   },
   {
    "duration": 9,
    "start_time": "2021-09-28T21:53:20.620Z"
   },
   {
    "duration": 59,
    "start_time": "2021-09-28T21:53:20.631Z"
   },
   {
    "duration": 18,
    "start_time": "2021-09-28T21:53:20.692Z"
   },
   {
    "duration": 7,
    "start_time": "2021-09-28T21:53:20.711Z"
   },
   {
    "duration": 8,
    "start_time": "2021-09-28T21:53:20.719Z"
   },
   {
    "duration": 4,
    "start_time": "2021-09-28T21:53:20.729Z"
   },
   {
    "duration": 43,
    "start_time": "2021-09-28T21:53:20.735Z"
   },
   {
    "duration": 18,
    "start_time": "2021-09-28T21:53:20.780Z"
   },
   {
    "duration": 4,
    "start_time": "2021-09-28T21:53:20.800Z"
   },
   {
    "duration": 3010,
    "start_time": "2021-09-28T21:53:20.805Z"
   },
   {
    "duration": 6,
    "start_time": "2021-09-28T21:53:23.817Z"
   },
   {
    "duration": 9,
    "start_time": "2021-09-28T21:53:23.824Z"
   },
   {
    "duration": 8,
    "start_time": "2021-09-28T21:53:23.835Z"
   },
   {
    "duration": 6,
    "start_time": "2021-09-28T21:53:23.844Z"
   },
   {
    "duration": 5,
    "start_time": "2021-09-28T21:53:23.877Z"
   },
   {
    "duration": 1457,
    "start_time": "2021-09-28T21:56:14.789Z"
   },
   {
    "duration": 424,
    "start_time": "2021-09-28T21:56:16.247Z"
   },
   {
    "duration": 17,
    "start_time": "2021-09-28T21:56:16.673Z"
   },
   {
    "duration": 21,
    "start_time": "2021-09-28T21:56:16.692Z"
   },
   {
    "duration": 12,
    "start_time": "2021-09-28T21:56:16.714Z"
   },
   {
    "duration": 18,
    "start_time": "2021-09-28T21:56:16.728Z"
   },
   {
    "duration": 10,
    "start_time": "2021-09-28T21:56:16.776Z"
   },
   {
    "duration": 14,
    "start_time": "2021-09-28T21:56:16.789Z"
   },
   {
    "duration": 7,
    "start_time": "2021-09-28T21:56:16.806Z"
   },
   {
    "duration": 6,
    "start_time": "2021-09-28T21:56:16.815Z"
   },
   {
    "duration": 12,
    "start_time": "2021-09-28T21:56:16.823Z"
   },
   {
    "duration": 40,
    "start_time": "2021-09-28T21:56:16.837Z"
   },
   {
    "duration": 3,
    "start_time": "2021-09-28T21:56:16.879Z"
   },
   {
    "duration": 10,
    "start_time": "2021-09-28T21:56:16.884Z"
   },
   {
    "duration": 16,
    "start_time": "2021-09-28T21:56:16.896Z"
   },
   {
    "duration": 34,
    "start_time": "2021-09-28T21:56:16.914Z"
   },
   {
    "duration": 38,
    "start_time": "2021-09-28T21:56:16.950Z"
   },
   {
    "duration": 8,
    "start_time": "2021-09-28T21:56:16.990Z"
   },
   {
    "duration": 23,
    "start_time": "2021-09-28T21:56:17.000Z"
   },
   {
    "duration": 19,
    "start_time": "2021-09-28T21:56:17.024Z"
   },
   {
    "duration": 8,
    "start_time": "2021-09-28T21:56:17.077Z"
   },
   {
    "duration": 9,
    "start_time": "2021-09-28T21:56:17.088Z"
   },
   {
    "duration": 5,
    "start_time": "2021-09-28T21:56:17.100Z"
   },
   {
    "duration": 122,
    "start_time": "2021-09-28T21:56:17.107Z"
   },
   {
    "duration": 67,
    "start_time": "2021-09-28T21:56:17.231Z"
   },
   {
    "duration": 6,
    "start_time": "2021-09-28T21:56:17.300Z"
   },
   {
    "duration": 37,
    "start_time": "2021-09-28T21:56:17.308Z"
   },
   {
    "duration": 6,
    "start_time": "2021-09-28T21:56:17.347Z"
   },
   {
    "duration": 55,
    "start_time": "2021-09-28T21:56:17.355Z"
   },
   {
    "duration": 6,
    "start_time": "2021-09-28T21:56:17.411Z"
   },
   {
    "duration": 59,
    "start_time": "2021-09-28T21:56:17.419Z"
   },
   {
    "duration": 15,
    "start_time": "2021-09-28T21:56:17.480Z"
   },
   {
    "duration": 7,
    "start_time": "2021-09-28T21:56:17.496Z"
   },
   {
    "duration": 10,
    "start_time": "2021-09-28T21:56:17.505Z"
   },
   {
    "duration": 13,
    "start_time": "2021-09-28T21:56:17.516Z"
   },
   {
    "duration": 8,
    "start_time": "2021-09-28T21:56:17.530Z"
   },
   {
    "duration": 59,
    "start_time": "2021-09-28T21:56:17.539Z"
   },
   {
    "duration": 19,
    "start_time": "2021-09-28T21:56:17.601Z"
   },
   {
    "duration": 7,
    "start_time": "2021-09-28T21:56:17.622Z"
   },
   {
    "duration": 6,
    "start_time": "2021-09-28T21:56:17.631Z"
   },
   {
    "duration": 3,
    "start_time": "2021-09-28T21:56:17.639Z"
   },
   {
    "duration": 36,
    "start_time": "2021-09-28T21:56:17.643Z"
   },
   {
    "duration": 12,
    "start_time": "2021-09-28T21:56:17.681Z"
   },
   {
    "duration": 4,
    "start_time": "2021-09-28T21:56:17.695Z"
   },
   {
    "duration": 2778,
    "start_time": "2021-09-28T21:56:17.700Z"
   },
   {
    "duration": 9,
    "start_time": "2021-09-28T21:56:20.480Z"
   },
   {
    "duration": 6,
    "start_time": "2021-09-28T21:56:20.492Z"
   },
   {
    "duration": 9,
    "start_time": "2021-09-28T21:56:20.500Z"
   },
   {
    "duration": 8,
    "start_time": "2021-09-28T21:56:20.511Z"
   },
   {
    "duration": 9,
    "start_time": "2021-09-28T21:56:20.521Z"
   },
   {
    "duration": 1570,
    "start_time": "2021-09-29T07:37:04.181Z"
   },
   {
    "duration": 587,
    "start_time": "2021-09-29T07:37:05.753Z"
   },
   {
    "duration": 27,
    "start_time": "2021-09-29T07:37:06.343Z"
   },
   {
    "duration": 29,
    "start_time": "2021-09-29T07:37:06.373Z"
   },
   {
    "duration": 18,
    "start_time": "2021-09-29T07:37:06.405Z"
   },
   {
    "duration": 57,
    "start_time": "2021-09-29T07:37:06.426Z"
   },
   {
    "duration": 15,
    "start_time": "2021-09-29T07:37:06.486Z"
   },
   {
    "duration": 20,
    "start_time": "2021-09-29T07:37:06.505Z"
   },
   {
    "duration": 13,
    "start_time": "2021-09-29T07:37:06.561Z"
   },
   {
    "duration": 35,
    "start_time": "2021-09-29T07:37:06.577Z"
   },
   {
    "duration": 20,
    "start_time": "2021-09-29T07:37:06.614Z"
   },
   {
    "duration": 17,
    "start_time": "2021-09-29T07:37:06.636Z"
   },
   {
    "duration": 15,
    "start_time": "2021-09-29T07:37:06.656Z"
   },
   {
    "duration": 25,
    "start_time": "2021-09-29T07:37:06.673Z"
   },
   {
    "duration": 23,
    "start_time": "2021-09-29T07:37:06.701Z"
   },
   {
    "duration": 52,
    "start_time": "2021-09-29T07:37:06.727Z"
   },
   {
    "duration": 26,
    "start_time": "2021-09-29T07:37:06.782Z"
   },
   {
    "duration": 20,
    "start_time": "2021-09-29T07:37:06.811Z"
   },
   {
    "duration": 62,
    "start_time": "2021-09-29T07:37:06.833Z"
   },
   {
    "duration": 28,
    "start_time": "2021-09-29T07:37:06.897Z"
   },
   {
    "duration": 41,
    "start_time": "2021-09-29T07:37:06.928Z"
   },
   {
    "duration": 16,
    "start_time": "2021-09-29T07:37:06.971Z"
   },
   {
    "duration": 9,
    "start_time": "2021-09-29T07:37:06.993Z"
   },
   {
    "duration": 174,
    "start_time": "2021-09-29T07:37:07.006Z"
   },
   {
    "duration": 98,
    "start_time": "2021-09-29T07:37:07.183Z"
   },
   {
    "duration": 9,
    "start_time": "2021-09-29T07:37:07.283Z"
   },
   {
    "duration": 69,
    "start_time": "2021-09-29T07:37:07.294Z"
   },
   {
    "duration": 7,
    "start_time": "2021-09-29T07:37:07.366Z"
   },
   {
    "duration": 60,
    "start_time": "2021-09-29T07:37:07.376Z"
   },
   {
    "duration": 23,
    "start_time": "2021-09-29T07:37:07.439Z"
   },
   {
    "duration": 71,
    "start_time": "2021-09-29T07:37:07.465Z"
   },
   {
    "duration": 26,
    "start_time": "2021-09-29T07:37:07.562Z"
   },
   {
    "duration": 11,
    "start_time": "2021-09-29T07:37:07.591Z"
   },
   {
    "duration": 23,
    "start_time": "2021-09-29T07:37:07.605Z"
   },
   {
    "duration": 45,
    "start_time": "2021-09-29T07:37:07.631Z"
   },
   {
    "duration": 11,
    "start_time": "2021-09-29T07:37:07.679Z"
   },
   {
    "duration": 44,
    "start_time": "2021-09-29T07:37:07.693Z"
   },
   {
    "duration": 25,
    "start_time": "2021-09-29T07:37:07.763Z"
   },
   {
    "duration": 10,
    "start_time": "2021-09-29T07:37:07.791Z"
   },
   {
    "duration": 16,
    "start_time": "2021-09-29T07:37:07.803Z"
   },
   {
    "duration": 12,
    "start_time": "2021-09-29T07:37:07.822Z"
   },
   {
    "duration": 12,
    "start_time": "2021-09-29T07:37:07.861Z"
   },
   {
    "duration": 29,
    "start_time": "2021-09-29T07:37:07.876Z"
   },
   {
    "duration": 6,
    "start_time": "2021-09-29T07:37:07.908Z"
   },
   {
    "duration": 5428,
    "start_time": "2021-09-29T07:37:07.917Z"
   },
   {
    "duration": 21,
    "start_time": "2021-09-29T07:37:13.347Z"
   },
   {
    "duration": 10,
    "start_time": "2021-09-29T07:37:13.370Z"
   },
   {
    "duration": 20,
    "start_time": "2021-09-29T07:37:13.382Z"
   },
   {
    "duration": 21,
    "start_time": "2021-09-29T07:37:13.405Z"
   },
   {
    "duration": 10,
    "start_time": "2021-09-29T07:37:13.428Z"
   },
   {
    "duration": 25,
    "start_time": "2021-09-29T07:40:45.345Z"
   },
   {
    "duration": 7,
    "start_time": "2021-09-29T07:40:54.300Z"
   },
   {
    "duration": 7,
    "start_time": "2021-09-29T07:41:25.823Z"
   },
   {
    "duration": 13,
    "start_time": "2021-09-29T07:41:32.143Z"
   },
   {
    "duration": 1896,
    "start_time": "2021-09-29T17:18:34.439Z"
   },
   {
    "duration": 793,
    "start_time": "2021-09-29T17:18:36.340Z"
   },
   {
    "duration": 5,
    "start_time": "2021-09-29T17:18:37.137Z"
   },
   {
    "duration": 44,
    "start_time": "2021-09-29T17:18:37.145Z"
   },
   {
    "duration": 63,
    "start_time": "2021-09-29T17:18:37.192Z"
   },
   {
    "duration": 29,
    "start_time": "2021-09-29T17:18:37.258Z"
   },
   {
    "duration": 56,
    "start_time": "2021-09-29T17:18:37.290Z"
   },
   {
    "duration": 22,
    "start_time": "2021-09-29T17:18:37.350Z"
   },
   {
    "duration": 5,
    "start_time": "2021-09-29T17:18:37.375Z"
   },
   {
    "duration": 50,
    "start_time": "2021-09-29T17:18:37.382Z"
   },
   {
    "duration": 31,
    "start_time": "2021-09-29T17:18:37.434Z"
   },
   {
    "duration": 95,
    "start_time": "2021-09-29T17:18:37.469Z"
   },
   {
    "duration": 37,
    "start_time": "2021-09-29T17:18:37.567Z"
   },
   {
    "duration": 35,
    "start_time": "2021-09-29T17:18:37.607Z"
   },
   {
    "duration": 68,
    "start_time": "2021-09-29T17:18:37.645Z"
   },
   {
    "duration": 41,
    "start_time": "2021-09-29T17:18:37.716Z"
   },
   {
    "duration": 14,
    "start_time": "2021-09-29T17:18:37.760Z"
   },
   {
    "duration": 22,
    "start_time": "2021-09-29T17:18:37.777Z"
   },
   {
    "duration": 34,
    "start_time": "2021-09-29T17:18:37.802Z"
   },
   {
    "duration": 26,
    "start_time": "2021-09-29T17:18:37.840Z"
   },
   {
    "duration": 93,
    "start_time": "2021-09-29T17:18:37.870Z"
   },
   {
    "duration": 17,
    "start_time": "2021-09-29T17:18:37.968Z"
   },
   {
    "duration": 64,
    "start_time": "2021-09-29T17:18:37.991Z"
   },
   {
    "duration": 16,
    "start_time": "2021-09-29T17:18:38.058Z"
   },
   {
    "duration": 64,
    "start_time": "2021-09-29T17:18:38.076Z"
   },
   {
    "duration": 17,
    "start_time": "2021-09-29T17:18:38.142Z"
   },
   {
    "duration": 63,
    "start_time": "2021-09-29T17:18:38.161Z"
   },
   {
    "duration": 11,
    "start_time": "2021-09-29T17:18:38.229Z"
   },
   {
    "duration": 44,
    "start_time": "2021-09-29T17:18:38.243Z"
   },
   {
    "duration": 59,
    "start_time": "2021-09-29T17:18:38.290Z"
   },
   {
    "duration": 14,
    "start_time": "2021-09-29T17:18:38.352Z"
   },
   {
    "duration": 29,
    "start_time": "2021-09-29T17:18:38.369Z"
   },
   {
    "duration": 10,
    "start_time": "2021-09-29T17:18:38.432Z"
   },
   {
    "duration": 12,
    "start_time": "2021-09-29T17:18:38.444Z"
   },
   {
    "duration": 23,
    "start_time": "2021-09-29T17:18:38.458Z"
   },
   {
    "duration": 53,
    "start_time": "2021-09-29T17:18:38.484Z"
   },
   {
    "duration": 24,
    "start_time": "2021-09-29T17:18:38.540Z"
   },
   {
    "duration": 81,
    "start_time": "2021-09-29T17:18:38.566Z"
   },
   {
    "duration": 8,
    "start_time": "2021-09-29T17:18:38.650Z"
   },
   {
    "duration": 7,
    "start_time": "2021-09-29T17:18:38.660Z"
   },
   {
    "duration": 7,
    "start_time": "2021-09-29T17:18:38.669Z"
   },
   {
    "duration": 5238,
    "start_time": "2021-09-29T17:18:38.678Z"
   },
   {
    "duration": 10,
    "start_time": "2021-09-29T17:18:43.923Z"
   },
   {
    "duration": 30,
    "start_time": "2021-09-29T17:18:43.939Z"
   },
   {
    "duration": 32,
    "start_time": "2021-09-29T17:18:43.973Z"
   },
   {
    "duration": 16,
    "start_time": "2021-09-29T17:18:44.008Z"
   },
   {
    "duration": 21,
    "start_time": "2021-09-29T17:18:44.033Z"
   },
   {
    "duration": 29,
    "start_time": "2021-09-29T17:18:44.057Z"
   },
   {
    "duration": 32,
    "start_time": "2021-09-29T17:18:44.088Z"
   },
   {
    "duration": 21,
    "start_time": "2021-09-29T17:18:44.123Z"
   }
  ],
  "kernelspec": {
   "display_name": "Python 3",
   "language": "python",
   "name": "python3"
  },
  "language_info": {
   "codemirror_mode": {
    "name": "ipython",
    "version": 3
   },
   "file_extension": ".py",
   "mimetype": "text/x-python",
   "name": "python",
   "nbconvert_exporter": "python",
   "pygments_lexer": "ipython3",
   "version": "3.7.10"
  },
  "toc": {
   "base_numbering": 1,
   "nav_menu": {
    "height": "344px",
    "width": "723px"
   },
   "number_sections": true,
   "sideBar": true,
   "skip_h1_title": true,
   "title_cell": "Содержание исследования",
   "title_sidebar": "Содержание",
   "toc_cell": true,
   "toc_position": {
    "height": "calc(100% - 180px)",
    "left": "10px",
    "top": "150px",
    "width": "228px"
   },
   "toc_section_display": true,
   "toc_window_display": false
  }
 },
 "nbformat": 4,
 "nbformat_minor": 5
}
